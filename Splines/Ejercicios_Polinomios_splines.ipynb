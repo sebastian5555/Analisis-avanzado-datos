{
 "cells": [
  {
   "cell_type": "markdown",
   "id": "6bd5ac4f",
   "metadata": {},
   "source": [
    "### Ejercicios"
   ]
  },
  {
   "cell_type": "code",
   "execution_count": 3,
   "id": "c98db7ef",
   "metadata": {},
   "outputs": [],
   "source": [
    "# Standard imports\n",
    "import warnings\n",
    "\n",
    "# Math and data processing\n",
    "import numpy as np\n",
    "import scipy as sp\n",
    "import pandas as pd\n",
    "\n",
    "# StatsModels\n",
    "import statsmodels.api as sm\n",
    "import statsmodels.formula.api as smf\n",
    "from statsmodels.stats.anova import anova_lm\n",
    "from patsy import dmatrix\n",
    "\n",
    "# scikit-learn\n",
    "from sklearn.preprocessing import PolynomialFeatures\n",
    "from sklearn.model_selection import train_test_split\n",
    "from sklearn.metrics import r2_score, explained_variance_score, mean_squared_error\n",
    "\n",
    "# Visualization\n",
    "from IPython.display import display\n",
    "import matplotlib as mpl\n",
    "import matplotlib.pyplot as plt\n",
    "%matplotlib inline\n",
    "mpl.style.use('ggplot')"
   ]
  },
  {
   "cell_type": "markdown",
   "id": "17c838b3",
   "metadata": {},
   "source": [
    "1. El conjunto de datos `wage` contiene una serie de otras características que no se han explorado, como el estado civil (maritl), la clase de trabajo (jobclass) y otras. Explore las relaciones entre algunos de estos otros predictores y el salario, y utilice técnicas de ajuste no lineal para ajustar modelos flexibles a los datos. Cree gráficos de los resultados obtenidos y escriba un resumen de sus hallazgos."
   ]
  },
  {
   "cell_type": "code",
   "execution_count": 26,
   "id": "52298438",
   "metadata": {},
   "outputs": [
    {
     "data": {
      "text/html": [
       "<div>\n",
       "<style scoped>\n",
       "    .dataframe tbody tr th:only-of-type {\n",
       "        vertical-align: middle;\n",
       "    }\n",
       "\n",
       "    .dataframe tbody tr th {\n",
       "        vertical-align: top;\n",
       "    }\n",
       "\n",
       "    .dataframe thead th {\n",
       "        text-align: right;\n",
       "    }\n",
       "</style>\n",
       "<table border=\"1\" class=\"dataframe\">\n",
       "  <thead>\n",
       "    <tr style=\"text-align: right;\">\n",
       "      <th></th>\n",
       "      <th>age</th>\n",
       "      <th>sex</th>\n",
       "      <th>maritl</th>\n",
       "      <th>race</th>\n",
       "      <th>education</th>\n",
       "      <th>region</th>\n",
       "      <th>jobclass</th>\n",
       "      <th>health</th>\n",
       "      <th>health_ins</th>\n",
       "      <th>logwage</th>\n",
       "      <th>wage</th>\n",
       "    </tr>\n",
       "    <tr>\n",
       "      <th>year</th>\n",
       "      <th></th>\n",
       "      <th></th>\n",
       "      <th></th>\n",
       "      <th></th>\n",
       "      <th></th>\n",
       "      <th></th>\n",
       "      <th></th>\n",
       "      <th></th>\n",
       "      <th></th>\n",
       "      <th></th>\n",
       "      <th></th>\n",
       "    </tr>\n",
       "  </thead>\n",
       "  <tbody>\n",
       "    <tr>\n",
       "      <th>2006</th>\n",
       "      <td>18</td>\n",
       "      <td>1. Male</td>\n",
       "      <td>1. Never Married</td>\n",
       "      <td>1. White</td>\n",
       "      <td>1. &lt; HS Grad</td>\n",
       "      <td>2. Middle Atlantic</td>\n",
       "      <td>1. Industrial</td>\n",
       "      <td>1. &lt;=Good</td>\n",
       "      <td>2. No</td>\n",
       "      <td>4.318063</td>\n",
       "      <td>75.043154</td>\n",
       "    </tr>\n",
       "    <tr>\n",
       "      <th>2004</th>\n",
       "      <td>24</td>\n",
       "      <td>1. Male</td>\n",
       "      <td>1. Never Married</td>\n",
       "      <td>1. White</td>\n",
       "      <td>4. College Grad</td>\n",
       "      <td>2. Middle Atlantic</td>\n",
       "      <td>2. Information</td>\n",
       "      <td>2. &gt;=Very Good</td>\n",
       "      <td>2. No</td>\n",
       "      <td>4.255273</td>\n",
       "      <td>70.476020</td>\n",
       "    </tr>\n",
       "    <tr>\n",
       "      <th>2003</th>\n",
       "      <td>45</td>\n",
       "      <td>1. Male</td>\n",
       "      <td>2. Married</td>\n",
       "      <td>1. White</td>\n",
       "      <td>3. Some College</td>\n",
       "      <td>2. Middle Atlantic</td>\n",
       "      <td>1. Industrial</td>\n",
       "      <td>1. &lt;=Good</td>\n",
       "      <td>1. Yes</td>\n",
       "      <td>4.875061</td>\n",
       "      <td>130.982177</td>\n",
       "    </tr>\n",
       "    <tr>\n",
       "      <th>2003</th>\n",
       "      <td>43</td>\n",
       "      <td>1. Male</td>\n",
       "      <td>2. Married</td>\n",
       "      <td>3. Asian</td>\n",
       "      <td>4. College Grad</td>\n",
       "      <td>2. Middle Atlantic</td>\n",
       "      <td>2. Information</td>\n",
       "      <td>2. &gt;=Very Good</td>\n",
       "      <td>1. Yes</td>\n",
       "      <td>5.041393</td>\n",
       "      <td>154.685293</td>\n",
       "    </tr>\n",
       "    <tr>\n",
       "      <th>2005</th>\n",
       "      <td>50</td>\n",
       "      <td>1. Male</td>\n",
       "      <td>4. Divorced</td>\n",
       "      <td>1. White</td>\n",
       "      <td>2. HS Grad</td>\n",
       "      <td>2. Middle Atlantic</td>\n",
       "      <td>2. Information</td>\n",
       "      <td>1. &lt;=Good</td>\n",
       "      <td>1. Yes</td>\n",
       "      <td>4.318063</td>\n",
       "      <td>75.043154</td>\n",
       "    </tr>\n",
       "  </tbody>\n",
       "</table>\n",
       "</div>"
      ],
      "text/plain": [
       "      age      sex            maritl      race        education  \\\n",
       "year                                                              \n",
       "2006   18  1. Male  1. Never Married  1. White     1. < HS Grad   \n",
       "2004   24  1. Male  1. Never Married  1. White  4. College Grad   \n",
       "2003   45  1. Male        2. Married  1. White  3. Some College   \n",
       "2003   43  1. Male        2. Married  3. Asian  4. College Grad   \n",
       "2005   50  1. Male       4. Divorced  1. White       2. HS Grad   \n",
       "\n",
       "                  region        jobclass          health health_ins   logwage  \\\n",
       "year                                                                            \n",
       "2006  2. Middle Atlantic   1. Industrial       1. <=Good      2. No  4.318063   \n",
       "2004  2. Middle Atlantic  2. Information  2. >=Very Good      2. No  4.255273   \n",
       "2003  2. Middle Atlantic   1. Industrial       1. <=Good     1. Yes  4.875061   \n",
       "2003  2. Middle Atlantic  2. Information  2. >=Very Good     1. Yes  5.041393   \n",
       "2005  2. Middle Atlantic  2. Information       1. <=Good     1. Yes  4.318063   \n",
       "\n",
       "            wage  \n",
       "year              \n",
       "2006   75.043154  \n",
       "2004   70.476020  \n",
       "2003  130.982177  \n",
       "2003  154.685293  \n",
       "2005   75.043154  "
      ]
     },
     "execution_count": 26,
     "metadata": {},
     "output_type": "execute_result"
    }
   ],
   "source": [
    "#Conjunto de datos\n",
    "df = pd.read_csv(\"wage 1.csv\", index_col=0).dropna()\n",
    "df.head()"
   ]
  },
  {
   "cell_type": "code",
   "execution_count": 24,
   "id": "e4afcfe1",
   "metadata": {},
   "outputs": [
    {
     "data": {
      "text/html": [
       "<div>\n",
       "<style scoped>\n",
       "    .dataframe tbody tr th:only-of-type {\n",
       "        vertical-align: middle;\n",
       "    }\n",
       "\n",
       "    .dataframe tbody tr th {\n",
       "        vertical-align: top;\n",
       "    }\n",
       "\n",
       "    .dataframe thead th {\n",
       "        text-align: right;\n",
       "    }\n",
       "</style>\n",
       "<table border=\"1\" class=\"dataframe\">\n",
       "  <thead>\n",
       "    <tr style=\"text-align: right;\">\n",
       "      <th></th>\n",
       "      <th>age</th>\n",
       "      <th>logwage</th>\n",
       "      <th>wage</th>\n",
       "      <th>maritl_2. Married</th>\n",
       "      <th>maritl_3. Widowed</th>\n",
       "      <th>maritl_4. Divorced</th>\n",
       "      <th>maritl_5. Separated</th>\n",
       "      <th>race_2. Black</th>\n",
       "      <th>race_3. Asian</th>\n",
       "      <th>race_4. Other</th>\n",
       "      <th>education_2. HS Grad</th>\n",
       "      <th>education_3. Some College</th>\n",
       "      <th>education_4. College Grad</th>\n",
       "      <th>education_5. Advanced Degree</th>\n",
       "      <th>jobclass_2. Information</th>\n",
       "      <th>health_2. &gt;=Very Good</th>\n",
       "      <th>health_ins_2. No</th>\n",
       "    </tr>\n",
       "    <tr>\n",
       "      <th>year</th>\n",
       "      <th></th>\n",
       "      <th></th>\n",
       "      <th></th>\n",
       "      <th></th>\n",
       "      <th></th>\n",
       "      <th></th>\n",
       "      <th></th>\n",
       "      <th></th>\n",
       "      <th></th>\n",
       "      <th></th>\n",
       "      <th></th>\n",
       "      <th></th>\n",
       "      <th></th>\n",
       "      <th></th>\n",
       "      <th></th>\n",
       "      <th></th>\n",
       "      <th></th>\n",
       "    </tr>\n",
       "  </thead>\n",
       "  <tbody>\n",
       "    <tr>\n",
       "      <th>2006</th>\n",
       "      <td>18</td>\n",
       "      <td>4.318063</td>\n",
       "      <td>75.043154</td>\n",
       "      <td>0</td>\n",
       "      <td>0</td>\n",
       "      <td>0</td>\n",
       "      <td>0</td>\n",
       "      <td>0</td>\n",
       "      <td>0</td>\n",
       "      <td>0</td>\n",
       "      <td>0</td>\n",
       "      <td>0</td>\n",
       "      <td>0</td>\n",
       "      <td>0</td>\n",
       "      <td>0</td>\n",
       "      <td>0</td>\n",
       "      <td>1</td>\n",
       "    </tr>\n",
       "    <tr>\n",
       "      <th>2004</th>\n",
       "      <td>24</td>\n",
       "      <td>4.255273</td>\n",
       "      <td>70.476020</td>\n",
       "      <td>0</td>\n",
       "      <td>0</td>\n",
       "      <td>0</td>\n",
       "      <td>0</td>\n",
       "      <td>0</td>\n",
       "      <td>0</td>\n",
       "      <td>0</td>\n",
       "      <td>0</td>\n",
       "      <td>0</td>\n",
       "      <td>1</td>\n",
       "      <td>0</td>\n",
       "      <td>1</td>\n",
       "      <td>1</td>\n",
       "      <td>1</td>\n",
       "    </tr>\n",
       "    <tr>\n",
       "      <th>2003</th>\n",
       "      <td>45</td>\n",
       "      <td>4.875061</td>\n",
       "      <td>130.982177</td>\n",
       "      <td>1</td>\n",
       "      <td>0</td>\n",
       "      <td>0</td>\n",
       "      <td>0</td>\n",
       "      <td>0</td>\n",
       "      <td>0</td>\n",
       "      <td>0</td>\n",
       "      <td>0</td>\n",
       "      <td>1</td>\n",
       "      <td>0</td>\n",
       "      <td>0</td>\n",
       "      <td>0</td>\n",
       "      <td>0</td>\n",
       "      <td>0</td>\n",
       "    </tr>\n",
       "    <tr>\n",
       "      <th>2003</th>\n",
       "      <td>43</td>\n",
       "      <td>5.041393</td>\n",
       "      <td>154.685293</td>\n",
       "      <td>1</td>\n",
       "      <td>0</td>\n",
       "      <td>0</td>\n",
       "      <td>0</td>\n",
       "      <td>0</td>\n",
       "      <td>1</td>\n",
       "      <td>0</td>\n",
       "      <td>0</td>\n",
       "      <td>0</td>\n",
       "      <td>1</td>\n",
       "      <td>0</td>\n",
       "      <td>1</td>\n",
       "      <td>1</td>\n",
       "      <td>0</td>\n",
       "    </tr>\n",
       "    <tr>\n",
       "      <th>2005</th>\n",
       "      <td>50</td>\n",
       "      <td>4.318063</td>\n",
       "      <td>75.043154</td>\n",
       "      <td>0</td>\n",
       "      <td>0</td>\n",
       "      <td>1</td>\n",
       "      <td>0</td>\n",
       "      <td>0</td>\n",
       "      <td>0</td>\n",
       "      <td>0</td>\n",
       "      <td>1</td>\n",
       "      <td>0</td>\n",
       "      <td>0</td>\n",
       "      <td>0</td>\n",
       "      <td>1</td>\n",
       "      <td>0</td>\n",
       "      <td>0</td>\n",
       "    </tr>\n",
       "  </tbody>\n",
       "</table>\n",
       "</div>"
      ],
      "text/plain": [
       "      age   logwage        wage  maritl_2. Married  maritl_3. Widowed  \\\n",
       "year                                                                    \n",
       "2006   18  4.318063   75.043154                  0                  0   \n",
       "2004   24  4.255273   70.476020                  0                  0   \n",
       "2003   45  4.875061  130.982177                  1                  0   \n",
       "2003   43  5.041393  154.685293                  1                  0   \n",
       "2005   50  4.318063   75.043154                  0                  0   \n",
       "\n",
       "      maritl_4. Divorced  maritl_5. Separated  race_2. Black  race_3. Asian  \\\n",
       "year                                                                          \n",
       "2006                   0                    0              0              0   \n",
       "2004                   0                    0              0              0   \n",
       "2003                   0                    0              0              0   \n",
       "2003                   0                    0              0              1   \n",
       "2005                   1                    0              0              0   \n",
       "\n",
       "      race_4. Other  education_2. HS Grad  education_3. Some College  \\\n",
       "year                                                                   \n",
       "2006              0                     0                          0   \n",
       "2004              0                     0                          0   \n",
       "2003              0                     0                          1   \n",
       "2003              0                     0                          0   \n",
       "2005              0                     1                          0   \n",
       "\n",
       "      education_4. College Grad  education_5. Advanced Degree  \\\n",
       "year                                                            \n",
       "2006                          0                             0   \n",
       "2004                          1                             0   \n",
       "2003                          0                             0   \n",
       "2003                          1                             0   \n",
       "2005                          0                             0   \n",
       "\n",
       "      jobclass_2. Information  health_2. >=Very Good  health_ins_2. No  \n",
       "year                                                                    \n",
       "2006                        0                      0                 1  \n",
       "2004                        1                      1                 1  \n",
       "2003                        0                      0                 0  \n",
       "2003                        1                      1                 0  \n",
       "2005                        1                      0                 0  "
      ]
     },
     "execution_count": 24,
     "metadata": {},
     "output_type": "execute_result"
    }
   ],
   "source": [
    "#Codificamos las variables categoricas\n",
    "df = pd.get_dummies(df, drop_first=True)\n",
    "df.head()"
   ]
  },
  {
   "cell_type": "markdown",
   "id": "29525784",
   "metadata": {},
   "source": [
    "Relizaremos una regresion polinomial con el estado civil (maritl) y exploraremos su relacion con el salario.\n",
    "De esta manera, nuestra variable de interes \"matirl\" se convierte en 4 nuevas variables: Married, Divorced, Separated y Widowed. Cada una con valores de 0 y 1 para identificar si aplican."
   ]
  },
  {
   "cell_type": "markdown",
   "id": "0b5f7f65",
   "metadata": {},
   "source": [
    "### MARRIED"
   ]
  },
  {
   "cell_type": "code",
   "execution_count": 8,
   "id": "413a10f5",
   "metadata": {},
   "outputs": [
    {
     "data": {
      "text/html": [
       "<table class=\"simpletable\">\n",
       "<tr>\n",
       "    <td></td>       <th>coef</th>     <th>std err</th>      <th>t</th>      <th>P>|t|</th>  <th>[0.025</th>    <th>0.975]</th>  \n",
       "</tr>\n",
       "<tr>\n",
       "  <th>const</th> <td>   96.3597</td> <td>    1.730</td> <td>   55.687</td> <td> 0.000</td> <td>   92.967</td> <td>   99.753</td>\n",
       "</tr>\n",
       "<tr>\n",
       "  <th>x1</th>    <td> 4.302e+13</td> <td> 6.98e+13</td> <td>    0.616</td> <td> 0.538</td> <td>-9.39e+13</td> <td>  1.8e+14</td>\n",
       "</tr>\n",
       "<tr>\n",
       "  <th>x2</th>    <td>-4.302e+13</td> <td> 6.98e+13</td> <td>   -0.616</td> <td> 0.538</td> <td> -1.8e+14</td> <td> 9.39e+13</td>\n",
       "</tr>\n",
       "</table>"
      ],
      "text/plain": [
       "<class 'statsmodels.iolib.table.SimpleTable'>"
      ]
     },
     "execution_count": 8,
     "metadata": {},
     "output_type": "execute_result"
    }
   ],
   "source": [
    "#Regresión polinomial de grado 2 en bruto\n",
    "X2 = PolynomialFeatures(degree=2).fit_transform(df[['maritl_2. Married']])\n",
    "poly2 = sm.GLS(df['wage'], X2).fit()\n",
    "poly2.summary().tables[1]"
   ]
  },
  {
   "cell_type": "code",
   "execution_count": 9,
   "id": "23aa42ab",
   "metadata": {},
   "outputs": [
    {
     "data": {
      "image/png": "[encoded data removed]",
      "text/plain": [
       "<Figure size 576x432 with 1 Axes>"
      ]
     },
     "metadata": {},
     "output_type": "display_data"
    }
   ],
   "source": [
    "maritl_2_grid = np.arange(df['maritl_2. Married'].min(), df['maritl_2. Married'].max()).reshape(-1,1)\n",
    "X_test = PolynomialFeatures(2).fit_transform(maritl_2_grid)\n",
    "y_pred = poly2.predict(X_test)\n",
    "\n",
    "# Plot\n",
    "fig, ax = plt.subplots(figsize=(8,6))\n",
    "fig.suptitle('Degree-2 Polynomial Regression', fontsize=14)\n",
    "\n",
    "# Scatter plot \n",
    "plt.scatter(df['maritl_2. Married'], df.wage, facecolor='None', edgecolor='k', alpha=0.5)\n",
    "plt.plot(maritl_2_grid, y_pred, color = 'b')\n",
    "ax.set_ylim(ymin=0)\n",
    "plt.xlabel('Maritl_Married')\n",
    "plt.ylabel('Wage')\n",
    "plt.show()"
   ]
  },
  {
   "cell_type": "markdown",
   "id": "a8d68229",
   "metadata": {},
   "source": [
    "### WIDOWED"
   ]
  },
  {
   "cell_type": "code",
   "execution_count": 10,
   "id": "c19617ee",
   "metadata": {},
   "outputs": [
    {
     "data": {
      "text/html": [
       "<table class=\"simpletable\">\n",
       "<tr>\n",
       "    <td></td>       <th>coef</th>     <th>std err</th>      <th>t</th>      <th>P>|t|</th>  <th>[0.025</th>    <th>0.975]</th>  \n",
       "</tr>\n",
       "<tr>\n",
       "  <th>const</th> <td>  111.7811</td> <td>    0.764</td> <td>  146.272</td> <td> 0.000</td> <td>  110.283</td> <td>  113.280</td>\n",
       "</tr>\n",
       "<tr>\n",
       "  <th>x1</th>    <td>   -6.1212</td> <td>    4.801</td> <td>   -1.275</td> <td> 0.202</td> <td>  -15.535</td> <td>    3.293</td>\n",
       "</tr>\n",
       "<tr>\n",
       "  <th>x2</th>    <td>   -6.1212</td> <td>    4.801</td> <td>   -1.275</td> <td> 0.202</td> <td>  -15.535</td> <td>    3.293</td>\n",
       "</tr>\n",
       "</table>"
      ],
      "text/plain": [
       "<class 'statsmodels.iolib.table.SimpleTable'>"
      ]
     },
     "execution_count": 10,
     "metadata": {},
     "output_type": "execute_result"
    }
   ],
   "source": [
    "X2_w = PolynomialFeatures(degree=2).fit_transform(df[['maritl_3. Widowed']])\n",
    "poly2_w = sm.GLS(df['wage'], X2_w).fit()\n",
    "poly2_w.summary().tables[1]"
   ]
  },
  {
   "cell_type": "code",
   "execution_count": 11,
   "id": "60ac80a8",
   "metadata": {},
   "outputs": [
    {
     "data": {
      "image/png": "[encoded data removed]",
      "text/plain": [
       "<Figure size 576x432 with 1 Axes>"
      ]
     },
     "metadata": {},
     "output_type": "display_data"
    }
   ],
   "source": [
    "maritl_3_grid = np.arange(df['maritl_3. Widowed'].min(), df['maritl_3. Widowed'].max()).reshape(-1,1)\n",
    "X_test = PolynomialFeatures(2).fit_transform(maritl_3_grid)\n",
    "y_pred = poly2_w.predict(X_test)\n",
    "\n",
    "# Plot\n",
    "fig, ax = plt.subplots(figsize=(8,6))\n",
    "fig.suptitle('Degree-2 Polynomial Regression', fontsize=14)\n",
    "\n",
    "# Scatter plot \n",
    "plt.scatter(df['maritl_3. Widowed'], df.wage, facecolor='None', edgecolor='k', alpha=0.5)\n",
    "plt.plot(maritl_3_grid, y_pred, color = 'b')\n",
    "ax.set_ylim(ymin=0)\n",
    "plt.xlabel('Maritl_Widowed')\n",
    "plt.ylabel('Wage')\n",
    "plt.show()"
   ]
  },
  {
   "cell_type": "markdown",
   "id": "ad63fb81",
   "metadata": {},
   "source": [
    "### DIVORCED"
   ]
  },
  {
   "cell_type": "code",
   "execution_count": 12,
   "id": "66cc8bc8",
   "metadata": {},
   "outputs": [
    {
     "data": {
      "text/html": [
       "<table class=\"simpletable\">\n",
       "<tr>\n",
       "    <td></td>       <th>coef</th>     <th>std err</th>      <th>t</th>      <th>P>|t|</th>  <th>[0.025</th>    <th>0.975]</th>  \n",
       "</tr>\n",
       "<tr>\n",
       "  <th>const</th> <td>  112.3270</td> <td>    0.788</td> <td>  142.507</td> <td> 0.000</td> <td>  110.782</td> <td>  113.873</td>\n",
       "</tr>\n",
       "<tr>\n",
       "  <th>x1</th>    <td> 1.815e+14</td> <td> 1.83e+14</td> <td>    0.990</td> <td> 0.322</td> <td>-1.78e+14</td> <td> 5.41e+14</td>\n",
       "</tr>\n",
       "<tr>\n",
       "  <th>x2</th>    <td>-1.815e+14</td> <td> 1.83e+14</td> <td>   -0.990</td> <td> 0.322</td> <td>-5.41e+14</td> <td> 1.78e+14</td>\n",
       "</tr>\n",
       "</table>"
      ],
      "text/plain": [
       "<class 'statsmodels.iolib.table.SimpleTable'>"
      ]
     },
     "execution_count": 12,
     "metadata": {},
     "output_type": "execute_result"
    }
   ],
   "source": [
    "X2_d = PolynomialFeatures(degree=2).fit_transform(df[['maritl_4. Divorced']])\n",
    "poly2_d = sm.GLS(df['wage'], X2_d).fit()\n",
    "poly2_d.summary().tables[1]"
   ]
  },
  {
   "cell_type": "code",
   "execution_count": 13,
   "id": "4acbc70c",
   "metadata": {},
   "outputs": [
    {
     "data": {
      "image/png": "[encoded data removed]",
      "text/plain": [
       "<Figure size 576x432 with 1 Axes>"
      ]
     },
     "metadata": {},
     "output_type": "display_data"
    }
   ],
   "source": [
    "maritl_4_grid = np.arange(df['maritl_4. Divorced'].min(), df['maritl_4. Divorced'].max()).reshape(-1,1)\n",
    "X_test = PolynomialFeatures(2).fit_transform(maritl_4_grid)\n",
    "y_pred = poly2_d.predict(X_test)\n",
    "\n",
    "# Plot\n",
    "fig, ax = plt.subplots(figsize=(8,6))\n",
    "fig.suptitle('Degree-2 Polynomial Regression', fontsize=14)\n",
    "\n",
    "# Scatter plot \n",
    "plt.scatter(df['maritl_4. Divorced'], df.wage, facecolor='None', edgecolor='k', alpha=0.5)\n",
    "plt.plot(maritl_4_grid, y_pred, color = 'b')\n",
    "ax.set_ylim(ymin=0)\n",
    "plt.xlabel('Maritl_Divorced')\n",
    "plt.ylabel('Wage')\n",
    "plt.show()"
   ]
  },
  {
   "cell_type": "markdown",
   "id": "b888a7c2",
   "metadata": {},
   "source": [
    "### SEPARATED"
   ]
  },
  {
   "cell_type": "code",
   "execution_count": 14,
   "id": "54a1d81d",
   "metadata": {},
   "outputs": [
    {
     "data": {
      "text/html": [
       "<table class=\"simpletable\">\n",
       "<tr>\n",
       "    <td></td>       <th>coef</th>     <th>std err</th>      <th>t</th>      <th>P>|t|</th>  <th>[0.025</th>    <th>0.975]</th>  \n",
       "</tr>\n",
       "<tr>\n",
       "  <th>const</th> <td>  111.8995</td> <td>    0.769</td> <td>  145.562</td> <td> 0.000</td> <td>  110.392</td> <td>  113.407</td>\n",
       "</tr>\n",
       "<tr>\n",
       "  <th>x1</th>    <td> 4.672e+14</td> <td> 4.78e+14</td> <td>    0.977</td> <td> 0.329</td> <td> -4.7e+14</td> <td>  1.4e+15</td>\n",
       "</tr>\n",
       "<tr>\n",
       "  <th>x2</th>    <td>-4.672e+14</td> <td> 4.78e+14</td> <td>   -0.977</td> <td> 0.329</td> <td> -1.4e+15</td> <td>  4.7e+14</td>\n",
       "</tr>\n",
       "</table>"
      ],
      "text/plain": [
       "<class 'statsmodels.iolib.table.SimpleTable'>"
      ]
     },
     "execution_count": 14,
     "metadata": {},
     "output_type": "execute_result"
    }
   ],
   "source": [
    "X2_s = PolynomialFeatures(degree=2).fit_transform(df[['maritl_5. Separated']])\n",
    "poly2_s = sm.GLS(df['wage'], X2_s).fit()\n",
    "poly2_s.summary().tables[1]"
   ]
  },
  {
   "cell_type": "code",
   "execution_count": 15,
   "id": "5d4d7349",
   "metadata": {},
   "outputs": [
    {
     "data": {
      "image/png": "[encoded data removed]",
      "text/plain": [
       "<Figure size 576x432 with 1 Axes>"
      ]
     },
     "metadata": {},
     "output_type": "display_data"
    }
   ],
   "source": [
    "maritl_5_grid = np.arange(df['maritl_5. Separated'].min(), df['maritl_5. Separated'].max()).reshape(-1,1)\n",
    "X_test = PolynomialFeatures(2).fit_transform(maritl_5_grid)\n",
    "y_pred = poly2_s.predict(X_test)\n",
    "\n",
    "# Plot\n",
    "fig, ax = plt.subplots(figsize=(8,6))\n",
    "fig.suptitle('Degree-2 Polynomial Regression', fontsize=14)\n",
    "\n",
    "# Scatter plot \n",
    "plt.scatter(df['maritl_5. Separated'], df.wage, facecolor='None', edgecolor='k', alpha=0.5)\n",
    "plt.plot(maritl_5_grid, y_pred, color = 'b')\n",
    "ax.set_ylim(ymin=0)\n",
    "plt.xlabel('Maritl_Separated')\n",
    "plt.ylabel('Wage')\n",
    "plt.show()"
   ]
  },
  {
   "cell_type": "markdown",
   "id": "9883e2eb",
   "metadata": {},
   "source": [
    "Lo primero que observamos es que los coeficientes de todas las variables son muy pequeños, a expecion de los de la variable \"widowed\".\n",
    "Asi mismo, de los graficos notamos que para personas casadas y no casadas el salario es el salario promedio en general, a excepciòn de un numero pequeño de personas casadas que ganan casi el maximo salario. Por otro lado para las personas vuidas, que son pocas, ganan tambien el aproximado promedio. Igualmente para los divorciados y no divorciados, a excepciòn de un numero pequeño de personas no divorciadas que ganan casi el maximo salario. Por ultimo, para las personas separadas tambien ganan el promedio."
   ]
  },
  {
   "cell_type": "markdown",
   "id": "b5b744a9",
   "metadata": {},
   "source": [
    "2. Explore de nuevo los splines (no suavizados) para regresiones con múltiples variables. Use al menos dos predictores, siendo al menos uno categórico (diferente a jobclass) y observe como varia el RMSE."
   ]
  },
  {
   "cell_type": "code",
   "execution_count": 38,
   "id": "ad0c0075",
   "metadata": {
    "scrolled": true
   },
   "outputs": [],
   "source": [
    "wage = pd.read_csv(\"wage 1.csv\")\n",
    "df2 = pd.get_dummies(wage,drop_first=True)"
   ]
  },
  {
   "cell_type": "code",
   "execution_count": 35,
   "id": "d141e1d3",
   "metadata": {},
   "outputs": [
    {
     "name": "stdout",
     "output_type": "stream",
     "text": [
      "(2250, 18)\n",
      "(750, 18)\n"
     ]
    },
    {
     "data": {
      "text/html": [
       "<div>\n",
       "<style scoped>\n",
       "    .dataframe tbody tr th:only-of-type {\n",
       "        vertical-align: middle;\n",
       "    }\n",
       "\n",
       "    .dataframe tbody tr th {\n",
       "        vertical-align: top;\n",
       "    }\n",
       "\n",
       "    .dataframe thead th {\n",
       "        text-align: right;\n",
       "    }\n",
       "</style>\n",
       "<table border=\"1\" class=\"dataframe\">\n",
       "  <thead>\n",
       "    <tr style=\"text-align: right;\">\n",
       "      <th></th>\n",
       "      <th>year</th>\n",
       "      <th>age</th>\n",
       "      <th>logwage</th>\n",
       "      <th>wage</th>\n",
       "      <th>maritl_2. Married</th>\n",
       "      <th>maritl_3. Widowed</th>\n",
       "      <th>maritl_4. Divorced</th>\n",
       "      <th>maritl_5. Separated</th>\n",
       "      <th>race_2. Black</th>\n",
       "      <th>race_3. Asian</th>\n",
       "      <th>race_4. Other</th>\n",
       "      <th>education_2. HS Grad</th>\n",
       "      <th>education_3. Some College</th>\n",
       "      <th>education_4. College Grad</th>\n",
       "      <th>education_5. Advanced Degree</th>\n",
       "      <th>jobclass_2. Information</th>\n",
       "      <th>health_2. &gt;=Very Good</th>\n",
       "      <th>health_ins_2. No</th>\n",
       "    </tr>\n",
       "  </thead>\n",
       "  <tbody>\n",
       "    <tr>\n",
       "      <th>215</th>\n",
       "      <td>2003</td>\n",
       "      <td>39</td>\n",
       "      <td>4.812913</td>\n",
       "      <td>123.089700</td>\n",
       "      <td>1</td>\n",
       "      <td>0</td>\n",
       "      <td>0</td>\n",
       "      <td>0</td>\n",
       "      <td>0</td>\n",
       "      <td>0</td>\n",
       "      <td>0</td>\n",
       "      <td>0</td>\n",
       "      <td>0</td>\n",
       "      <td>0</td>\n",
       "      <td>1</td>\n",
       "      <td>0</td>\n",
       "      <td>1</td>\n",
       "      <td>0</td>\n",
       "    </tr>\n",
       "    <tr>\n",
       "      <th>1237</th>\n",
       "      <td>2007</td>\n",
       "      <td>60</td>\n",
       "      <td>4.778151</td>\n",
       "      <td>118.884359</td>\n",
       "      <td>1</td>\n",
       "      <td>0</td>\n",
       "      <td>0</td>\n",
       "      <td>0</td>\n",
       "      <td>0</td>\n",
       "      <td>1</td>\n",
       "      <td>0</td>\n",
       "      <td>0</td>\n",
       "      <td>0</td>\n",
       "      <td>1</td>\n",
       "      <td>0</td>\n",
       "      <td>0</td>\n",
       "      <td>0</td>\n",
       "      <td>0</td>\n",
       "    </tr>\n",
       "    <tr>\n",
       "      <th>693</th>\n",
       "      <td>2005</td>\n",
       "      <td>48</td>\n",
       "      <td>5.079181</td>\n",
       "      <td>160.642475</td>\n",
       "      <td>1</td>\n",
       "      <td>0</td>\n",
       "      <td>0</td>\n",
       "      <td>0</td>\n",
       "      <td>0</td>\n",
       "      <td>0</td>\n",
       "      <td>0</td>\n",
       "      <td>0</td>\n",
       "      <td>1</td>\n",
       "      <td>0</td>\n",
       "      <td>0</td>\n",
       "      <td>0</td>\n",
       "      <td>1</td>\n",
       "      <td>0</td>\n",
       "    </tr>\n",
       "    <tr>\n",
       "      <th>897</th>\n",
       "      <td>2003</td>\n",
       "      <td>40</td>\n",
       "      <td>4.623249</td>\n",
       "      <td>101.824352</td>\n",
       "      <td>0</td>\n",
       "      <td>0</td>\n",
       "      <td>1</td>\n",
       "      <td>0</td>\n",
       "      <td>0</td>\n",
       "      <td>0</td>\n",
       "      <td>0</td>\n",
       "      <td>1</td>\n",
       "      <td>0</td>\n",
       "      <td>0</td>\n",
       "      <td>0</td>\n",
       "      <td>0</td>\n",
       "      <td>1</td>\n",
       "      <td>0</td>\n",
       "    </tr>\n",
       "    <tr>\n",
       "      <th>2219</th>\n",
       "      <td>2004</td>\n",
       "      <td>61</td>\n",
       "      <td>4.397940</td>\n",
       "      <td>81.283253</td>\n",
       "      <td>1</td>\n",
       "      <td>0</td>\n",
       "      <td>0</td>\n",
       "      <td>0</td>\n",
       "      <td>0</td>\n",
       "      <td>0</td>\n",
       "      <td>0</td>\n",
       "      <td>1</td>\n",
       "      <td>0</td>\n",
       "      <td>0</td>\n",
       "      <td>0</td>\n",
       "      <td>1</td>\n",
       "      <td>1</td>\n",
       "      <td>1</td>\n",
       "    </tr>\n",
       "  </tbody>\n",
       "</table>\n",
       "</div>"
      ],
      "text/plain": [
       "      year  age   logwage        wage  maritl_2. Married  maritl_3. Widowed  \\\n",
       "215   2003   39  4.812913  123.089700                  1                  0   \n",
       "1237  2007   60  4.778151  118.884359                  1                  0   \n",
       "693   2005   48  5.079181  160.642475                  1                  0   \n",
       "897   2003   40  4.623249  101.824352                  0                  0   \n",
       "2219  2004   61  4.397940   81.283253                  1                  0   \n",
       "\n",
       "      maritl_4. Divorced  maritl_5. Separated  race_2. Black  race_3. Asian  \\\n",
       "215                    0                    0              0              0   \n",
       "1237                   0                    0              0              1   \n",
       "693                    0                    0              0              0   \n",
       "897                    1                    0              0              0   \n",
       "2219                   0                    0              0              0   \n",
       "\n",
       "      race_4. Other  education_2. HS Grad  education_3. Some College  \\\n",
       "215               0                     0                          0   \n",
       "1237              0                     0                          0   \n",
       "693               0                     0                          1   \n",
       "897               0                     1                          0   \n",
       "2219              0                     1                          0   \n",
       "\n",
       "      education_4. College Grad  education_5. Advanced Degree  \\\n",
       "215                           0                             1   \n",
       "1237                          1                             0   \n",
       "693                           0                             0   \n",
       "897                           0                             0   \n",
       "2219                          0                             0   \n",
       "\n",
       "      jobclass_2. Information  health_2. >=Very Good  health_ins_2. No  \n",
       "215                         0                      1                 0  \n",
       "1237                        0                      0                 0  \n",
       "693                         0                      1                 0  \n",
       "897                         0                      1                 0  \n",
       "2219                        1                      1                 1  "
      ]
     },
     "execution_count": 35,
     "metadata": {},
     "output_type": "execute_result"
    }
   ],
   "source": [
    "#Dividimos el salario en conjunto de entrenamiento y conjunto de prueba\n",
    "df2_train, df2_test = train_test_split(df2, test_size=0.25, random_state=123)\n",
    "print(df2_train.shape)\n",
    "print(df2_test.shape)\n",
    "df2_train.head()"
   ]
  },
  {
   "cell_type": "markdown",
   "id": "197b0d24",
   "metadata": {},
   "source": [
    "Para el predictor de tipo categorico usaremos la variable **Health**.\n",
    "Se usa un spline natural cubico para así poder implicar multiples variables como : edad, año y salud y relacionarlas mediante la regresion con la variable del salario.\n"
   ]
  },
  {
   "cell_type": "code",
   "execution_count": 37,
   "id": "a767269c",
   "metadata": {},
   "outputs": [
    {
     "name": "stdout",
     "output_type": "stream",
     "text": [
      "El RMSE es: 40.272910690959975\n"
     ]
    }
   ],
   "source": [
    "#Para la variable health: good = 0, very good = 1\n",
    "deg=4 # Grados de libertad\n",
    "\n",
    "#Definicion de la transformacion\n",
    "transformacion = dmatrix(\n",
    "    f\"te(cr(df2_train.age, df={deg}), cr(df2_train.year, df={deg}),cr(health,df={deg}))\", # se definen los splines\n",
    "                           {\"df2_train.age\": df2_train.age, \"df2_train.year\": df2_train.year,\n",
    "                            \"health\":df2_train['health_2. >=Very Good']} # Se definen los datos\n",
    ")\n",
    "\n",
    "model_spline = sm.GLM(df2_train.wage, transformacion).fit() # Train\n",
    "\n",
    "# Prediccion\n",
    "prediccion = model_spline.predict(\n",
    "    dmatrix(f\"te(cr(df2_test.age, df={deg}), cr(df2_test.year, df={deg}), cr(health,df={deg}) )\", # Splines\n",
    "            {\"df2_test.age\": df2_test.age, \"df2_test.year\": df2_test.year,\n",
    "             \"health\":df2_test['health_2. >=Very Good']}, # datos\n",
    "            return_type='dataframe') )\n",
    "\n",
    "print(\"El RMSE es:\",np.sqrt(mean_squared_error(df2_test.wage, prediccion)) )"
   ]
  },
  {
   "cell_type": "code",
   "execution_count": 40,
   "id": "1dfe8260",
   "metadata": {
    "scrolled": true
   },
   "outputs": [
    {
     "name": "stdout",
     "output_type": "stream",
     "text": [
      "El RMSE es: 42.1831898107358\n"
     ]
    }
   ],
   "source": [
    "transformed_deg4 = dmatrix(\"cr(df2_train.year, df=4)\", {\"df2_train.year\": df2_train.year}, return_type='dataframe')\n",
    "spln_deg4 = sm.GLM(df2_train.wage, transformed_deg4).fit()\n",
    "pred_deg4 = spln_deg4.predict(dmatrix(\"cr(df2_test.age, df=4)\", {\"df2_test.year\": df2_test.year}, return_type='dataframe'))\n",
    "\n",
    "print(\"El RMSE es:\",np.sqrt(mean_squared_error(df2_test.wage, pred_deg4)) )"
   ]
  },
  {
   "cell_type": "markdown",
   "id": "fb3a046b",
   "metadata": {},
   "source": [
    "Comparando nuestro RMSE con el RMSE hecho en clase con el spline cubico de la variable \"jobclass\", el nuestro es mayor ligeramente, por lo que con la variable jobclass se presento un mejor modelo. Sin embargo, en comparación al hecho con el spline entre el año y el salario este es menor. Es decir, que el modelo hecho con la variablde del año es peor."
   ]
  }
 ],
 "metadata": {
  "kernelspec": {
   "display_name": "Python 3 (ipykernel)",
   "language": "python",
   "name": "python3"
  },
  "language_info": {
   "codemirror_mode": {
    "name": "ipython",
    "version": 3
   },
   "file_extension": ".py",
   "mimetype": "text/x-python",
   "name": "python",
   "nbconvert_exporter": "python",
   "pygments_lexer": "ipython3",
   "version": "3.9.6"
  }
 },
 "nbformat": 4,
 "nbformat_minor": 5
}
