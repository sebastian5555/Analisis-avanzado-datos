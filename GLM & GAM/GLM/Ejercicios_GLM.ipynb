{
 "cells": [
  {
   "cell_type": "markdown",
   "metadata": {},
   "source": [
    "# Ejercicio 1"
   ]
  },
  {
   "cell_type": "markdown",
   "metadata": {},
   "source": [
    "[1] Esta pregunta debe responderse utilizando el dataset ``Weekly``. Esta información es contiene 1,089 declaraciones semanales durante 21 años, desde el comienzo de 1990 hasta el final de 2010.\n",
    "\n",
    "Realice una regresión logística con ``Direction`` como respuesta y las cinco variables ``lag`` más ``Volume`` como predictores. Usando `glm` de statmodels, use diferentes funciones de enlace y comente las diferencias. Use la función `summary` (de statmodels) para imprimir los resultados. ¿Que conclusiones puede obtener de cada modelo?\n"
   ]
  },
  {
   "cell_type": "markdown",
   "metadata": {},
   "source": [
    "# Ejercicio 2"
   ]
  },
  {
   "cell_type": "markdown",
   "metadata": {},
   "source": [
    "En este ejercicio trabajaremos con el conjunto da datos de  `gotelli.csv`. Este dataset investiga los determinantes biográficos de la riqueza de especies a escala regional (Gotelli y Everson, 2002). El objetivo principal de este ejercicio es replicar la **regresión de Poisson** de la riqueza de una especie de hormiga contra la latitud, la elevación y el tipo de hábitat en su papel.\n",
    "\n",
    "(1) Cargue el dataset y grafique una matriz de dispersión, y evalue si hay algún tipo de colinealidad entre las variables.\n",
    "\n",
    "(2) Divida el conjunto en un training y test set. A partir de ahora sólo trabaje con el Training set.\n",
    "\n",
    "(3) Realice una regresión de Poisson, involucrando las variables de habitat, latitude y la elevación y sus interacciones. Determine los VIF para cada variable. Evalue el modelo con alguna métrica sobre el Test set (R2, varianza explicada, RMSE, etc).\n",
    "\n",
    "(4) Si hay una covariación alta centre las variables (restar la media).\n",
    "\n",
    "(5) Realice de nuevo el modelo con la regresión de Poisson y evalue la colinealidad con el VIF. Evalue el modelo sobre el Test set."
   ]
  }
 ],
 "metadata": {
  "kernelspec": {
   "display_name": "Python 3",
   "language": "python",
   "name": "python3"
  },
  "language_info": {
   "codemirror_mode": {
    "name": "ipython",
    "version": 3
   },
   "file_extension": ".py",
   "mimetype": "text/x-python",
   "name": "python",
   "nbconvert_exporter": "python",
   "pygments_lexer": "ipython3",
   "version": "3.8.5"
  },
  "nbTranslate": {
   "displayLangs": [
    "*"
   ],
   "hotkey": "alt-t",
   "langInMainMenu": true,
   "sourceLang": "en",
   "targetLang": "fr",
   "useGoogleTranslate": true
  },
  "varInspector": {
   "cols": {
    "lenName": 16,
    "lenType": 16,
    "lenVar": 40
   },
   "kernels_config": {
    "python": {
     "delete_cmd_postfix": "",
     "delete_cmd_prefix": "del ",
     "library": "var_list.py",
     "varRefreshCmd": "print(var_dic_list())"
    },
    "r": {
     "delete_cmd_postfix": ") ",
     "delete_cmd_prefix": "rm(",
     "library": "var_list.r",
     "varRefreshCmd": "cat(var_dic_list()) "
    }
   },
   "types_to_exclude": [
    "module",
    "function",
    "builtin_function_or_method",
    "instance",
    "_Feature"
   ],
   "window_display": false
  }
 },
 "nbformat": 4,
 "nbformat_minor": 4
}
