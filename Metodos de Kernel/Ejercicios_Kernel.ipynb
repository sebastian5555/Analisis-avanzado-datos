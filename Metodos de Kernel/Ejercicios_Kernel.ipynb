{
 "cells": [
  {
   "cell_type": "markdown",
   "metadata": {},
   "source": [
    "# Ejercicios sobre suavizado mediante Kernel"
   ]
  },
  {
   "cell_type": "markdown",
   "metadata": {},
   "source": [
    "Jessenia Piza, Sebastián Martínez y Manuela Acosta"
   ]
  },
  {
   "cell_type": "markdown",
   "metadata": {},
   "source": [
    "1. Para el dataset de `wage` (salario), y usando como variable independiente `age`. Realice procesos de suavizado involucrando kernels (pruebe con los tres kernels vistos) y también realice una regresión local usando el kernel de epanechinov.  Para este ejercicio no es necesario usar la división de training y test.\n"
   ]
  },
  {
   "cell_type": "code",
   "execution_count": 1,
   "metadata": {},
   "outputs": [],
   "source": [
    "# Cargamos las librerias\n",
    "\n",
    "import numpy as np\n",
    "\n",
    "import warnings\n",
    "\n",
    "from numpy.linalg import inv, pinv\n",
    "\n",
    "from numpy.random import uniform\n",
    "from numpy.random import normal\n",
    "\n",
    "import pandas as pd\n",
    "\n",
    "from scipy.stats import norm\n",
    "\n",
    "from sklearn.naive_bayes import GaussianNB\n",
    "from sklearn.model_selection import train_test_split\n",
    "\n",
    "import matplotlib.pyplot as plt\n",
    "\n",
    "%matplotlib inline\n",
    "\n",
    "warnings.filterwarnings('ignore')"
   ]
  },
  {
   "cell_type": "code",
   "execution_count": 2,
   "metadata": {},
   "outputs": [
    {
     "data": {
      "text/html": [
       "<div>\n",
       "<style scoped>\n",
       "    .dataframe tbody tr th:only-of-type {\n",
       "        vertical-align: middle;\n",
       "    }\n",
       "\n",
       "    .dataframe tbody tr th {\n",
       "        vertical-align: top;\n",
       "    }\n",
       "\n",
       "    .dataframe thead th {\n",
       "        text-align: right;\n",
       "    }\n",
       "</style>\n",
       "<table border=\"1\" class=\"dataframe\">\n",
       "  <thead>\n",
       "    <tr style=\"text-align: right;\">\n",
       "      <th></th>\n",
       "      <th>year</th>\n",
       "      <th>age</th>\n",
       "      <th>sex</th>\n",
       "      <th>maritl</th>\n",
       "      <th>race</th>\n",
       "      <th>education</th>\n",
       "      <th>region</th>\n",
       "      <th>jobclass</th>\n",
       "      <th>health</th>\n",
       "      <th>health_ins</th>\n",
       "      <th>logwage</th>\n",
       "      <th>wage</th>\n",
       "    </tr>\n",
       "  </thead>\n",
       "  <tbody>\n",
       "    <tr>\n",
       "      <th>0</th>\n",
       "      <td>2006</td>\n",
       "      <td>18</td>\n",
       "      <td>1. Male</td>\n",
       "      <td>1. Never Married</td>\n",
       "      <td>1. White</td>\n",
       "      <td>1. &lt; HS Grad</td>\n",
       "      <td>2. Middle Atlantic</td>\n",
       "      <td>1. Industrial</td>\n",
       "      <td>1. &lt;=Good</td>\n",
       "      <td>2. No</td>\n",
       "      <td>4.318063</td>\n",
       "      <td>75.043154</td>\n",
       "    </tr>\n",
       "    <tr>\n",
       "      <th>1</th>\n",
       "      <td>2004</td>\n",
       "      <td>24</td>\n",
       "      <td>1. Male</td>\n",
       "      <td>1. Never Married</td>\n",
       "      <td>1. White</td>\n",
       "      <td>4. College Grad</td>\n",
       "      <td>2. Middle Atlantic</td>\n",
       "      <td>2. Information</td>\n",
       "      <td>2. &gt;=Very Good</td>\n",
       "      <td>2. No</td>\n",
       "      <td>4.255273</td>\n",
       "      <td>70.476020</td>\n",
       "    </tr>\n",
       "    <tr>\n",
       "      <th>2</th>\n",
       "      <td>2003</td>\n",
       "      <td>45</td>\n",
       "      <td>1. Male</td>\n",
       "      <td>2. Married</td>\n",
       "      <td>1. White</td>\n",
       "      <td>3. Some College</td>\n",
       "      <td>2. Middle Atlantic</td>\n",
       "      <td>1. Industrial</td>\n",
       "      <td>1. &lt;=Good</td>\n",
       "      <td>1. Yes</td>\n",
       "      <td>4.875061</td>\n",
       "      <td>130.982177</td>\n",
       "    </tr>\n",
       "    <tr>\n",
       "      <th>3</th>\n",
       "      <td>2003</td>\n",
       "      <td>43</td>\n",
       "      <td>1. Male</td>\n",
       "      <td>2. Married</td>\n",
       "      <td>3. Asian</td>\n",
       "      <td>4. College Grad</td>\n",
       "      <td>2. Middle Atlantic</td>\n",
       "      <td>2. Information</td>\n",
       "      <td>2. &gt;=Very Good</td>\n",
       "      <td>1. Yes</td>\n",
       "      <td>5.041393</td>\n",
       "      <td>154.685293</td>\n",
       "    </tr>\n",
       "    <tr>\n",
       "      <th>4</th>\n",
       "      <td>2005</td>\n",
       "      <td>50</td>\n",
       "      <td>1. Male</td>\n",
       "      <td>4. Divorced</td>\n",
       "      <td>1. White</td>\n",
       "      <td>2. HS Grad</td>\n",
       "      <td>2. Middle Atlantic</td>\n",
       "      <td>2. Information</td>\n",
       "      <td>1. &lt;=Good</td>\n",
       "      <td>1. Yes</td>\n",
       "      <td>4.318063</td>\n",
       "      <td>75.043154</td>\n",
       "    </tr>\n",
       "  </tbody>\n",
       "</table>\n",
       "</div>"
      ],
      "text/plain": [
       "   year  age      sex            maritl      race        education  \\\n",
       "0  2006   18  1. Male  1. Never Married  1. White     1. < HS Grad   \n",
       "1  2004   24  1. Male  1. Never Married  1. White  4. College Grad   \n",
       "2  2003   45  1. Male        2. Married  1. White  3. Some College   \n",
       "3  2003   43  1. Male        2. Married  3. Asian  4. College Grad   \n",
       "4  2005   50  1. Male       4. Divorced  1. White       2. HS Grad   \n",
       "\n",
       "               region        jobclass          health health_ins   logwage  \\\n",
       "0  2. Middle Atlantic   1. Industrial       1. <=Good      2. No  4.318063   \n",
       "1  2. Middle Atlantic  2. Information  2. >=Very Good      2. No  4.255273   \n",
       "2  2. Middle Atlantic   1. Industrial       1. <=Good     1. Yes  4.875061   \n",
       "3  2. Middle Atlantic  2. Information  2. >=Very Good     1. Yes  5.041393   \n",
       "4  2. Middle Atlantic  2. Information       1. <=Good     1. Yes  4.318063   \n",
       "\n",
       "         wage  \n",
       "0   75.043154  \n",
       "1   70.476020  \n",
       "2  130.982177  \n",
       "3  154.685293  \n",
       "4   75.043154  "
      ]
     },
     "execution_count": 2,
     "metadata": {},
     "output_type": "execute_result"
    }
   ],
   "source": [
    "df = pd.read_csv(\"wage.csv\")\n",
    "df.head()"
   ]
  },
  {
   "cell_type": "code",
   "execution_count": 3,
   "metadata": {},
   "outputs": [],
   "source": [
    "#Determinando X y Y\n",
    "X = df['age']\n",
    "Y = df['wage']"
   ]
  },
  {
   "cell_type": "code",
   "execution_count": 4,
   "metadata": {},
   "outputs": [],
   "source": [
    "#Promedio de salarios por edad, para evitar datos repetidos \n",
    "edades = X.unique()\n",
    "promedios = []\n",
    "for i in edades:\n",
    "    salario = 0\n",
    "    cantidad = 0\n",
    "    for n in range(len(X)):\n",
    "        if X[n] == i:\n",
    "            salario += Y[n]\n",
    "            cantidad += 1\n",
    "    promedio = salario/cantidad\n",
    "    promedios.append(promedio)\n",
    "\n",
    "X = edades\n",
    "Y = np.array(promedios)"
   ]
  },
  {
   "cell_type": "code",
   "execution_count": 5,
   "metadata": {},
   "outputs": [],
   "source": [
    "#Ordenando los datos \n",
    "X_ = np.argsort(X)\n",
    "X = X[X_]\n",
    "Y = Y[X_]"
   ]
  },
  {
   "cell_type": "code",
   "execution_count": 6,
   "metadata": {},
   "outputs": [],
   "source": [
    "#Kernels suavizados \n",
    "y_hat_30_nearest = np.zeros(len(Y))\n",
    "y_hat_02_epa = np.zeros(len(Y))\n",
    "y_hat_02_tri = np.zeros(len(Y))\n",
    "\n",
    "\n",
    "for i in range(len(X)):\n",
    "    x0 = X[i]\n",
    "    y_hat_30_nearest[i] = np.mean(Y[np.argsort(np.abs(X - x0))][:30])\n",
    "    \n",
    "    t = np.abs(X - x0)/0.02\n",
    "    d = (t<=1)*3/4*(1-t**2) # kernel de Epanechnikov \n",
    "    d3 = (t<=1)*(1-t**3)**3 # kernel tricubico\n",
    "    \n",
    "    # Ponderacion mediante kernel Nadaraya-Watson\n",
    "    y_hat_02_epa[i] = np.sum(d*Y)/np.sum(d)\n",
    "    y_hat_02_tri[i] = np.sum(d3*Y)/np.sum(d3)"
   ]
  },
  {
   "cell_type": "code",
   "execution_count": 7,
   "metadata": {},
   "outputs": [
    {
     "data": {
      "image/png": "[encoded data removed]",
      "text/plain": [
       "<Figure size 720x432 with 1 Axes>"
      ]
     },
     "metadata": {
      "needs_background": "light"
     },
     "output_type": "display_data"
    }
   ],
   "source": [
    "plt.figure(figsize=(10,6))\n",
    "plt.scatter(X, Y, s=2, label='data')\n",
    "plt.plot(X, y_hat_30_nearest, label='KNN')\n",
    "plt.plot(X, y_hat_02_epa, label='Epanechnikov')\n",
    "plt.plot(X, y_hat_02_tri, label='Tri-cube')\n",
    "plt.legend();"
   ]
  },
  {
   "cell_type": "code",
   "execution_count": 8,
   "metadata": {},
   "outputs": [],
   "source": [
    "X = df.iloc[:,:11]\n",
    "Y = df['wage']\n",
    "X = pd.get_dummies(X)"
   ]
  },
  {
   "cell_type": "code",
   "execution_count": 9,
   "metadata": {},
   "outputs": [],
   "source": [
    "X = X.values\n",
    "Y = Y.values"
   ]
  },
  {
   "cell_type": "code",
   "execution_count": 10,
   "metadata": {},
   "outputs": [],
   "source": [
    "#Regresión local usando un kernel de Epanechnikov\n",
    "y_hat_lin = np.zeros(Y.shape)\n",
    "y_hat_sqr = np.zeros(Y.shape)\n",
    "\n",
    "B = np.hstack((np.ones(shape=(X.shape[0], 1)), X))\n",
    "B2 = np.hstack((np.ones(shape=(X.shape[0], 1)), X, X**2))\n",
    "\n",
    "for i in range(X.shape[0]):\n",
    "    x0 = X[i]\n",
    "    \n",
    "    t = np.sqrt(np.sum((B - np.concatenate(([1], x0)))**2, axis = 1))/0.2\n",
    "#     t = np.(B - np.concatenate(([1], x0)))/0.2\n",
    "    d = (t<=1)*3/4*(1-t**2) # Epa kernel\n",
    "    Wx0 = np.diag(d)\n",
    "    \n",
    "    y_hat_lin[i] = np.array(np.concatenate(([1], x0))) @ pinv(B.T @ Wx0 @ B) @ B.T @ Wx0 @ np.expand_dims(Y, axis=1)\n",
    "    y_hat_sqr[i] = np.array(np.concatenate(([1], x0,x0**2))) @ pinv(B2.T @ Wx0 @ B2) @ B2.T @ Wx0 @ np.expand_dims(Y, axis=1)"
   ]
  },
  {
   "cell_type": "code",
   "execution_count": 29,
   "metadata": {},
   "outputs": [
    {
     "data": {
      "text/plain": [
       "array([ 75.04315402,  70.47601965, 130.98217738, ...,  66.22940829,\n",
       "        87.98103279,  90.48191336])"
      ]
     },
     "execution_count": 29,
     "metadata": {},
     "output_type": "execute_result"
    }
   ],
   "source": [
    "y_hat_lin # Regresión lineal"
   ]
  },
  {
   "cell_type": "code",
   "execution_count": 30,
   "metadata": {},
   "outputs": [
    {
     "data": {
      "text/plain": [
       "array([ 75.04315402,  70.47601965, 130.98217738, ...,  66.22940829,\n",
       "        87.98103279,  90.48191336])"
      ]
     },
     "execution_count": 30,
     "metadata": {},
     "output_type": "execute_result"
    }
   ],
   "source": [
    "y_hat_sqr # Regresión Cuadrática"
   ]
  },
  {
   "cell_type": "markdown",
   "metadata": {},
   "source": [
    "2. Cree una nueva clase binaria, en donde una clase corresponda a los salarios mayores a 250 y la otra a los menores. Realice una clasificación usando el clasificador de Naive Bayes. Pruebe el resultado con un Test set y con la métrica de acuracy y la matriz de confusión."
   ]
  },
  {
   "cell_type": "code",
   "execution_count": 34,
   "metadata": {},
   "outputs": [],
   "source": [
    "#Creando clase binaria \n",
    "X = df.iloc[:,:11]\n",
    "X = pd.get_dummies(X)\n",
    "y = df['wage'].copy()\n",
    "for i in range(len(wage2)):\n",
    "    if y[i] >= 250:\n",
    "        y[i] = 1\n",
    "    else: \n",
    "        y[i] = 0"
   ]
  },
  {
   "cell_type": "code",
   "execution_count": 35,
   "metadata": {},
   "outputs": [],
   "source": [
    "X_train, X_test, y_train, y_test = train_test_split(X, y, test_size=0.25, random_state=42)"
   ]
  },
  {
   "cell_type": "code",
   "execution_count": 36,
   "metadata": {},
   "outputs": [
    {
     "data": {
      "text/plain": [
       "GaussianNB()"
      ]
     },
     "execution_count": 36,
     "metadata": {},
     "output_type": "execute_result"
    }
   ],
   "source": [
    "clf = GaussianNB()\n",
    "clf.fit(X_train,y_train)"
   ]
  },
  {
   "cell_type": "code",
   "execution_count": 37,
   "metadata": {},
   "outputs": [
    {
     "name": "stdout",
     "output_type": "stream",
     "text": [
      "La exactitud (accuracy) de clasificación con el clasificador de NB es: 0.9973333333333333\n"
     ]
    }
   ],
   "source": [
    "print(\"La exactitud (accuracy) de clasificación con el clasificador de NB es:\", clf.score(X_test, y_test))"
   ]
  },
  {
   "cell_type": "code",
   "execution_count": 39,
   "metadata": {},
   "outputs": [
    {
     "data": {
      "text/plain": [
       "0.0    0.973667\n",
       "1.0    0.026333\n",
       "Name: wage, dtype: float64"
      ]
     },
     "execution_count": 39,
     "metadata": {},
     "output_type": "execute_result"
    }
   ],
   "source": [
    "y.value_counts()/(df.shape[0])"
   ]
  },
  {
   "cell_type": "markdown",
   "metadata": {},
   "source": [
    "Podemos concluir que la clasificación es muy buena y que el 97.36% de los salarios son menores a 250."
   ]
  }
 ],
 "metadata": {
  "kernelspec": {
   "display_name": "Python 3",
   "language": "python",
   "name": "python3"
  },
  "language_info": {
   "codemirror_mode": {
    "name": "ipython",
    "version": 3
   },
   "file_extension": ".py",
   "mimetype": "text/x-python",
   "name": "python",
   "nbconvert_exporter": "python",
   "pygments_lexer": "ipython3",
   "version": "3.7.9"
  },
  "nbTranslate": {
   "displayLangs": [
    "*"
   ],
   "hotkey": "alt-t",
   "langInMainMenu": true,
   "sourceLang": "en",
   "targetLang": "fr",
   "useGoogleTranslate": true
  },
  "varInspector": {
   "cols": {
    "lenName": 16,
    "lenType": 16,
    "lenVar": 40
   },
   "kernels_config": {
    "python": {
     "delete_cmd_postfix": "",
     "delete_cmd_prefix": "del ",
     "library": "var_list.py",
     "varRefreshCmd": "print(var_dic_list())"
    },
    "r": {
     "delete_cmd_postfix": ") ",
     "delete_cmd_prefix": "rm(",
     "library": "var_list.r",
     "varRefreshCmd": "cat(var_dic_list()) "
    }
   },
   "types_to_exclude": [
    "module",
    "function",
    "builtin_function_or_method",
    "instance",
    "_Feature"
   ],
   "window_display": false
  }
 },
 "nbformat": 4,
 "nbformat_minor": 4
}
