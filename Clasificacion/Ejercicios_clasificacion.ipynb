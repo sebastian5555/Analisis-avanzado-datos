{
 "cells": [
  {
   "cell_type": "markdown",
   "metadata": {},
   "source": [
    "[1] Esta pregunta debe responderse utilizando el dataset ``Weekly``. Esta información es similar a los datos de ``Smarket`` del anterior notebook, excepto que contiene 1,089 declaraciones semanales durante 21 años, desde el comienzo de 1990 hasta el final de 2010.\n",
    "\n",
    "(a) Produzca algún resumen numérico y algunos gráficos de ``Weekly``. ¿Hay algún patrón?\n",
    "\n",
    "(b) Utilice el conjunto de datos completo para realizar una regresión logística con ``Direction`` como respuesta y las cinco variables ``lag`` más ``Volume`` como predictores. Use la función ``summary`` (de statmodels) para imprimir los resultados. ¿Alguno de los predictores parece ser estadísticamente significativo? ¿De ser asi, cuales?\n",
    "\n",
    "(c) Calcule la matriz de confusión y la fracción general de las predicciones correctas. Explique qué le está diciendo la matriz de confusión sobre los tipos de errores cometidos por la regresión logística.\n",
    "\n",
    "(d) Ahora ajuste el modelo de regresión logística utilizando un período de datos de capacitación de 1990 a 2008, con ``Lag2`` como el único predictor. Calcule la matriz de confusión y la fracción general de las predicciones correctas para los datos retenidos (es decir, los datos de 2009 y 2010).\n",
    "\n",
    "(e) Repetir (d) usando LDA.\n",
    "\n",
    "(f) Repetir (d) usando QDA.\n",
    "\n",
    "(g) Repetir (d) usando KNN con K = 1.\n",
    "\n",
    "(h) ¿Cuál de estos métodos parece proporcionar los mejores resultados en estos datos?\n",
    "\n",
    "(i) Experimentar con diferentes combinaciones de predictores, incluidas posibles transformaciones e interacciones, para cada uno de los métodos. Realice un informe sobre las variables, el método y la matriz de confusión correspondiente, que parecen proporcionar los mejores resultados. Tenga en cuenta que también debe experimentar con valores para K en el clasificador KNN."
   ]
  },
  {
   "cell_type": "markdown",
   "metadata": {},
   "source": [
    "[2]. Para este ejercicio debe cargar el dataset `RBC_Drepanocitos_Esferocitos.csv`. Haga un análisis completo de los descriptores mediante resúmenes numéricos y/o gráficas. Realice una división para los conjuntos de training y test (proporciones del 70% y 30% respectivamente), asegurese de que el test tiene proporciones similares al training (estratificado) [Para esto use `sklearn.model_selection.train_test_split` con el parámetro `stratify = y`, donde `y` es el vector de etiquetas]. Realice diferentes modelos utilizando los clasificadores vistos hasta ahora (Regresión logística, LDA, QDA, KNN y Naive Bayes) y si es necesario con preprocesamiento de los datos. ¿Cúal es el mejor? Para contestar esta pregunta calcule diferentes parámetros de desempeño, matrices de confusión, curva ROC, etc."
   ]
  }
 ],
 "metadata": {
  "kernelspec": {
   "display_name": "Python 3",
   "language": "python",
   "name": "python3"
  },
  "language_info": {
   "codemirror_mode": {
    "name": "ipython",
    "version": 3
   },
   "file_extension": ".py",
   "mimetype": "text/x-python",
   "name": "python",
   "nbconvert_exporter": "python",
   "pygments_lexer": "ipython3",
   "version": "3.8.5"
  },
  "nbTranslate": {
   "displayLangs": [
    "*"
   ],
   "hotkey": "alt-t",
   "langInMainMenu": true,
   "sourceLang": "en",
   "targetLang": "fr",
   "useGoogleTranslate": true
  },
  "varInspector": {
   "cols": {
    "lenName": 16,
    "lenType": 16,
    "lenVar": 40
   },
   "kernels_config": {
    "python": {
     "delete_cmd_postfix": "",
     "delete_cmd_prefix": "del ",
     "library": "var_list.py",
     "varRefreshCmd": "print(var_dic_list())"
    },
    "r": {
     "delete_cmd_postfix": ") ",
     "delete_cmd_prefix": "rm(",
     "library": "var_list.r",
     "varRefreshCmd": "cat(var_dic_list()) "
    }
   },
   "types_to_exclude": [
    "module",
    "function",
    "builtin_function_or_method",
    "instance",
    "_Feature"
   ],
   "window_display": false
  }
 },
 "nbformat": 4,
 "nbformat_minor": 2
}
