{
 "cells": [
  {
   "cell_type": "markdown",
   "metadata": {},
   "source": [
    "# Tarea de regularización\n",
    "\n",
    "Jessenia Piza Londoño, Carlos Sebastián Martínez Vidal y Manuela Acosta Fajardo\n",
    "\n",
    "Grupo 5"
   ]
  },
  {
   "cell_type": "markdown",
   "metadata": {},
   "source": [
    "[1] En este ejercicio, se requiere predecir la cantidad de solicitudes recibidas usando las otras variables en el conjunto de datos `college.csv`."
   ]
  },
  {
   "cell_type": "code",
   "execution_count": 2,
   "metadata": {},
   "outputs": [],
   "source": [
    "# Cargando los modulos basicos\n",
    "import pandas as pd\n",
    "import numpy as np\n",
    "import matplotlib.pyplot as plt\n",
    "import seaborn as sns\n",
    "%matplotlib inline\n",
    "\n",
    "from sklearn.model_selection import train_test_split, cross_val_score, cross_val_predict, KFold, StratifiedKFold\n",
    "from sklearn.metrics import confusion_matrix, classification_report, accuracy_score, mean_squared_error\n",
    "from sklearn.preprocessing import StandardScaler\n",
    "from sklearn.linear_model import LinearRegression, Ridge, RidgeCV, Lasso, LassoCV\n",
    "from sklearn.decomposition import PCA\n",
    "from sklearn import feature_selection\n",
    "\n",
    "from time import time\n",
    "\n",
    "# Para ser reproducible\n",
    "np.random.seed(42)\n",
    "\n",
    "# No muestra warnings\n",
    "import warnings\n",
    "warnings.filterwarnings('ignore')"
   ]
  },
  {
   "cell_type": "markdown",
   "metadata": {},
   "source": [
    "Preparamos el dataset. "
   ]
  },
  {
   "cell_type": "code",
   "execution_count": 3,
   "metadata": {},
   "outputs": [
    {
     "data": {
      "text/html": [
       "<div>\n",
       "<style scoped>\n",
       "    .dataframe tbody tr th:only-of-type {\n",
       "        vertical-align: middle;\n",
       "    }\n",
       "\n",
       "    .dataframe tbody tr th {\n",
       "        vertical-align: top;\n",
       "    }\n",
       "\n",
       "    .dataframe thead th {\n",
       "        text-align: right;\n",
       "    }\n",
       "</style>\n",
       "<table border=\"1\" class=\"dataframe\">\n",
       "  <thead>\n",
       "    <tr style=\"text-align: right;\">\n",
       "      <th></th>\n",
       "      <th>Private</th>\n",
       "      <th>Apps</th>\n",
       "      <th>Accept</th>\n",
       "      <th>Enroll</th>\n",
       "      <th>Top10perc</th>\n",
       "      <th>Top25perc</th>\n",
       "      <th>F.Undergrad</th>\n",
       "      <th>P.Undergrad</th>\n",
       "      <th>Outstate</th>\n",
       "      <th>Room.Board</th>\n",
       "      <th>Books</th>\n",
       "      <th>Personal</th>\n",
       "      <th>PhD</th>\n",
       "      <th>Terminal</th>\n",
       "      <th>S.F.Ratio</th>\n",
       "      <th>perc.alumni</th>\n",
       "      <th>Expend</th>\n",
       "      <th>Grad.Rate</th>\n",
       "    </tr>\n",
       "  </thead>\n",
       "  <tbody>\n",
       "    <tr>\n",
       "      <th>Abilene Christian University</th>\n",
       "      <td>Yes</td>\n",
       "      <td>1660</td>\n",
       "      <td>1232</td>\n",
       "      <td>721</td>\n",
       "      <td>23</td>\n",
       "      <td>52</td>\n",
       "      <td>2885</td>\n",
       "      <td>537</td>\n",
       "      <td>7440</td>\n",
       "      <td>3300</td>\n",
       "      <td>450</td>\n",
       "      <td>2200</td>\n",
       "      <td>70</td>\n",
       "      <td>78</td>\n",
       "      <td>18.1</td>\n",
       "      <td>12</td>\n",
       "      <td>7041</td>\n",
       "      <td>60</td>\n",
       "    </tr>\n",
       "    <tr>\n",
       "      <th>Adelphi University</th>\n",
       "      <td>Yes</td>\n",
       "      <td>2186</td>\n",
       "      <td>1924</td>\n",
       "      <td>512</td>\n",
       "      <td>16</td>\n",
       "      <td>29</td>\n",
       "      <td>2683</td>\n",
       "      <td>1227</td>\n",
       "      <td>12280</td>\n",
       "      <td>6450</td>\n",
       "      <td>750</td>\n",
       "      <td>1500</td>\n",
       "      <td>29</td>\n",
       "      <td>30</td>\n",
       "      <td>12.2</td>\n",
       "      <td>16</td>\n",
       "      <td>10527</td>\n",
       "      <td>56</td>\n",
       "    </tr>\n",
       "    <tr>\n",
       "      <th>Adrian College</th>\n",
       "      <td>Yes</td>\n",
       "      <td>1428</td>\n",
       "      <td>1097</td>\n",
       "      <td>336</td>\n",
       "      <td>22</td>\n",
       "      <td>50</td>\n",
       "      <td>1036</td>\n",
       "      <td>99</td>\n",
       "      <td>11250</td>\n",
       "      <td>3750</td>\n",
       "      <td>400</td>\n",
       "      <td>1165</td>\n",
       "      <td>53</td>\n",
       "      <td>66</td>\n",
       "      <td>12.9</td>\n",
       "      <td>30</td>\n",
       "      <td>8735</td>\n",
       "      <td>54</td>\n",
       "    </tr>\n",
       "    <tr>\n",
       "      <th>Agnes Scott College</th>\n",
       "      <td>Yes</td>\n",
       "      <td>417</td>\n",
       "      <td>349</td>\n",
       "      <td>137</td>\n",
       "      <td>60</td>\n",
       "      <td>89</td>\n",
       "      <td>510</td>\n",
       "      <td>63</td>\n",
       "      <td>12960</td>\n",
       "      <td>5450</td>\n",
       "      <td>450</td>\n",
       "      <td>875</td>\n",
       "      <td>92</td>\n",
       "      <td>97</td>\n",
       "      <td>7.7</td>\n",
       "      <td>37</td>\n",
       "      <td>19016</td>\n",
       "      <td>59</td>\n",
       "    </tr>\n",
       "    <tr>\n",
       "      <th>Alaska Pacific University</th>\n",
       "      <td>Yes</td>\n",
       "      <td>193</td>\n",
       "      <td>146</td>\n",
       "      <td>55</td>\n",
       "      <td>16</td>\n",
       "      <td>44</td>\n",
       "      <td>249</td>\n",
       "      <td>869</td>\n",
       "      <td>7560</td>\n",
       "      <td>4120</td>\n",
       "      <td>800</td>\n",
       "      <td>1500</td>\n",
       "      <td>76</td>\n",
       "      <td>72</td>\n",
       "      <td>11.9</td>\n",
       "      <td>2</td>\n",
       "      <td>10922</td>\n",
       "      <td>15</td>\n",
       "    </tr>\n",
       "  </tbody>\n",
       "</table>\n",
       "</div>"
      ],
      "text/plain": [
       "                             Private  Apps  Accept  Enroll  Top10perc  \\\n",
       "Abilene Christian University     Yes  1660    1232     721         23   \n",
       "Adelphi University               Yes  2186    1924     512         16   \n",
       "Adrian College                   Yes  1428    1097     336         22   \n",
       "Agnes Scott College              Yes   417     349     137         60   \n",
       "Alaska Pacific University        Yes   193     146      55         16   \n",
       "\n",
       "                              Top25perc  F.Undergrad  P.Undergrad  Outstate  \\\n",
       "Abilene Christian University         52         2885          537      7440   \n",
       "Adelphi University                   29         2683         1227     12280   \n",
       "Adrian College                       50         1036           99     11250   \n",
       "Agnes Scott College                  89          510           63     12960   \n",
       "Alaska Pacific University            44          249          869      7560   \n",
       "\n",
       "                              Room.Board  Books  Personal  PhD  Terminal  \\\n",
       "Abilene Christian University        3300    450      2200   70        78   \n",
       "Adelphi University                  6450    750      1500   29        30   \n",
       "Adrian College                      3750    400      1165   53        66   \n",
       "Agnes Scott College                 5450    450       875   92        97   \n",
       "Alaska Pacific University           4120    800      1500   76        72   \n",
       "\n",
       "                              S.F.Ratio  perc.alumni  Expend  Grad.Rate  \n",
       "Abilene Christian University       18.1           12    7041         60  \n",
       "Adelphi University                 12.2           16   10527         56  \n",
       "Adrian College                     12.9           30    8735         54  \n",
       "Agnes Scott College                 7.7           37   19016         59  \n",
       "Alaska Pacific University          11.9            2   10922         15  "
      ]
     },
     "execution_count": 3,
     "metadata": {},
     "output_type": "execute_result"
    }
   ],
   "source": [
    "# Importando los datos de college\n",
    "df = pd.read_csv('data/college.csv', index_col=0).dropna()\n",
    "df.head()"
   ]
  },
  {
   "cell_type": "code",
   "execution_count": 4,
   "metadata": {},
   "outputs": [],
   "source": [
    "# Convertimos las variables categóricas a dummies\n",
    "df = pd.get_dummies(df, drop_first=True)"
   ]
  },
  {
   "cell_type": "markdown",
   "metadata": {},
   "source": [
    "Tomaremos como variable de salida Grad.Rate, y el resto de variables serán los predictores. Por ello, dividimos el dataset de la siguiente manera. "
   ]
  },
  {
   "cell_type": "code",
   "execution_count": 5,
   "metadata": {},
   "outputs": [
    {
     "data": {
      "text/html": [
       "<div>\n",
       "<style scoped>\n",
       "    .dataframe tbody tr th:only-of-type {\n",
       "        vertical-align: middle;\n",
       "    }\n",
       "\n",
       "    .dataframe tbody tr th {\n",
       "        vertical-align: top;\n",
       "    }\n",
       "\n",
       "    .dataframe thead th {\n",
       "        text-align: right;\n",
       "    }\n",
       "</style>\n",
       "<table border=\"1\" class=\"dataframe\">\n",
       "  <thead>\n",
       "    <tr style=\"text-align: right;\">\n",
       "      <th></th>\n",
       "      <th>Apps</th>\n",
       "      <th>Accept</th>\n",
       "      <th>Enroll</th>\n",
       "      <th>Top10perc</th>\n",
       "      <th>Top25perc</th>\n",
       "      <th>F.Undergrad</th>\n",
       "      <th>P.Undergrad</th>\n",
       "      <th>Outstate</th>\n",
       "      <th>Room.Board</th>\n",
       "      <th>Books</th>\n",
       "      <th>Personal</th>\n",
       "      <th>PhD</th>\n",
       "      <th>Terminal</th>\n",
       "      <th>S.F.Ratio</th>\n",
       "      <th>perc.alumni</th>\n",
       "      <th>Expend</th>\n",
       "      <th>Private_Yes</th>\n",
       "    </tr>\n",
       "  </thead>\n",
       "  <tbody>\n",
       "    <tr>\n",
       "      <th>Abilene Christian University</th>\n",
       "      <td>1660.0</td>\n",
       "      <td>1232.0</td>\n",
       "      <td>721.0</td>\n",
       "      <td>23.0</td>\n",
       "      <td>52.0</td>\n",
       "      <td>2885.0</td>\n",
       "      <td>537.0</td>\n",
       "      <td>7440.0</td>\n",
       "      <td>3300.0</td>\n",
       "      <td>450.0</td>\n",
       "      <td>2200.0</td>\n",
       "      <td>70.0</td>\n",
       "      <td>78.0</td>\n",
       "      <td>18.1</td>\n",
       "      <td>12.0</td>\n",
       "      <td>7041.0</td>\n",
       "      <td>1.0</td>\n",
       "    </tr>\n",
       "    <tr>\n",
       "      <th>Adelphi University</th>\n",
       "      <td>2186.0</td>\n",
       "      <td>1924.0</td>\n",
       "      <td>512.0</td>\n",
       "      <td>16.0</td>\n",
       "      <td>29.0</td>\n",
       "      <td>2683.0</td>\n",
       "      <td>1227.0</td>\n",
       "      <td>12280.0</td>\n",
       "      <td>6450.0</td>\n",
       "      <td>750.0</td>\n",
       "      <td>1500.0</td>\n",
       "      <td>29.0</td>\n",
       "      <td>30.0</td>\n",
       "      <td>12.2</td>\n",
       "      <td>16.0</td>\n",
       "      <td>10527.0</td>\n",
       "      <td>1.0</td>\n",
       "    </tr>\n",
       "    <tr>\n",
       "      <th>Adrian College</th>\n",
       "      <td>1428.0</td>\n",
       "      <td>1097.0</td>\n",
       "      <td>336.0</td>\n",
       "      <td>22.0</td>\n",
       "      <td>50.0</td>\n",
       "      <td>1036.0</td>\n",
       "      <td>99.0</td>\n",
       "      <td>11250.0</td>\n",
       "      <td>3750.0</td>\n",
       "      <td>400.0</td>\n",
       "      <td>1165.0</td>\n",
       "      <td>53.0</td>\n",
       "      <td>66.0</td>\n",
       "      <td>12.9</td>\n",
       "      <td>30.0</td>\n",
       "      <td>8735.0</td>\n",
       "      <td>1.0</td>\n",
       "    </tr>\n",
       "    <tr>\n",
       "      <th>Agnes Scott College</th>\n",
       "      <td>417.0</td>\n",
       "      <td>349.0</td>\n",
       "      <td>137.0</td>\n",
       "      <td>60.0</td>\n",
       "      <td>89.0</td>\n",
       "      <td>510.0</td>\n",
       "      <td>63.0</td>\n",
       "      <td>12960.0</td>\n",
       "      <td>5450.0</td>\n",
       "      <td>450.0</td>\n",
       "      <td>875.0</td>\n",
       "      <td>92.0</td>\n",
       "      <td>97.0</td>\n",
       "      <td>7.7</td>\n",
       "      <td>37.0</td>\n",
       "      <td>19016.0</td>\n",
       "      <td>1.0</td>\n",
       "    </tr>\n",
       "    <tr>\n",
       "      <th>Alaska Pacific University</th>\n",
       "      <td>193.0</td>\n",
       "      <td>146.0</td>\n",
       "      <td>55.0</td>\n",
       "      <td>16.0</td>\n",
       "      <td>44.0</td>\n",
       "      <td>249.0</td>\n",
       "      <td>869.0</td>\n",
       "      <td>7560.0</td>\n",
       "      <td>4120.0</td>\n",
       "      <td>800.0</td>\n",
       "      <td>1500.0</td>\n",
       "      <td>76.0</td>\n",
       "      <td>72.0</td>\n",
       "      <td>11.9</td>\n",
       "      <td>2.0</td>\n",
       "      <td>10922.0</td>\n",
       "      <td>1.0</td>\n",
       "    </tr>\n",
       "  </tbody>\n",
       "</table>\n",
       "</div>"
      ],
      "text/plain": [
       "                                Apps  Accept  Enroll  Top10perc  Top25perc  \\\n",
       "Abilene Christian University  1660.0  1232.0   721.0       23.0       52.0   \n",
       "Adelphi University            2186.0  1924.0   512.0       16.0       29.0   \n",
       "Adrian College                1428.0  1097.0   336.0       22.0       50.0   \n",
       "Agnes Scott College            417.0   349.0   137.0       60.0       89.0   \n",
       "Alaska Pacific University      193.0   146.0    55.0       16.0       44.0   \n",
       "\n",
       "                              F.Undergrad  P.Undergrad  Outstate  Room.Board  \\\n",
       "Abilene Christian University       2885.0        537.0    7440.0      3300.0   \n",
       "Adelphi University                 2683.0       1227.0   12280.0      6450.0   \n",
       "Adrian College                     1036.0         99.0   11250.0      3750.0   \n",
       "Agnes Scott College                 510.0         63.0   12960.0      5450.0   \n",
       "Alaska Pacific University           249.0        869.0    7560.0      4120.0   \n",
       "\n",
       "                              Books  Personal   PhD  Terminal  S.F.Ratio  \\\n",
       "Abilene Christian University  450.0    2200.0  70.0      78.0       18.1   \n",
       "Adelphi University            750.0    1500.0  29.0      30.0       12.2   \n",
       "Adrian College                400.0    1165.0  53.0      66.0       12.9   \n",
       "Agnes Scott College           450.0     875.0  92.0      97.0        7.7   \n",
       "Alaska Pacific University     800.0    1500.0  76.0      72.0       11.9   \n",
       "\n",
       "                              perc.alumni   Expend  Private_Yes  \n",
       "Abilene Christian University         12.0   7041.0          1.0  \n",
       "Adelphi University                   16.0  10527.0          1.0  \n",
       "Adrian College                       30.0   8735.0          1.0  \n",
       "Agnes Scott College                  37.0  19016.0          1.0  \n",
       "Alaska Pacific University             2.0  10922.0          1.0  "
      ]
     },
     "execution_count": 5,
     "metadata": {},
     "output_type": "execute_result"
    }
   ],
   "source": [
    "# Definiendo los predictores y la variable de salida\n",
    "y = df['Grad.Rate']\n",
    "\n",
    "# Se elimina la variable respuesta (Grad.Rate) y las columnas con las variables categoricas\n",
    "X = df.drop('Grad.Rate', axis=1).astype('float64')\n",
    "\n",
    "X.head()"
   ]
  },
  {
   "cell_type": "markdown",
   "metadata": {},
   "source": [
    "    (a) Divida el conjunto de datos en un conjunto de entrenamiento y un conjunto de prueba."
   ]
  },
  {
   "cell_type": "code",
   "execution_count": 6,
   "metadata": {},
   "outputs": [],
   "source": [
    "# Conjunto de entrenamiento (75%) y de prueba (25%)\n",
    "X_train, X_test, y_train, y_test = train_test_split(X,y,test_size=0.25, random_state = 42)\n",
    "\n",
    "# Estandarizamos el conjunto de entrenamiento \n",
    "scaler = StandardScaler().fit(X_train)"
   ]
  },
  {
   "cell_type": "markdown",
   "metadata": {},
   "source": [
    "    (b) Ajuste un modelo lineal usando mínimos cuadrados en el conjunto de entrenamiento e informe el error de prueba (sobre el Test set) obtenido."
   ]
  },
  {
   "cell_type": "markdown",
   "metadata": {},
   "source": [
    "Por lo visto en clase, sabemos que mínimos cuadrados equivale a Regresión Ridge cuando $\\lambda = 0$."
   ]
  },
  {
   "cell_type": "code",
   "execution_count": 7,
   "metadata": {},
   "outputs": [
    {
     "data": {
      "text/plain": [
       "131.36122018103097"
      ]
     },
     "execution_count": 7,
     "metadata": {},
     "output_type": "execute_result"
    }
   ],
   "source": [
    "minimos_cuadrados = Ridge(alpha=0)\n",
    "minimos_cuadrados.fit(scaler.transform(X_train), y_train) # Ajustamos el modelo a los datos estandarizados\n",
    "pred = minimos_cuadrados.predict(scaler.transform(X_test)) # Predecimos la salida con el conjunto de Y test \n",
    "mean_squared_error(y_test, pred) # MSE"
   ]
  },
  {
   "cell_type": "markdown",
   "metadata": {},
   "source": [
    "El error de prueba obtenido es 131.36122.\n",
    "\n",
    "Veremos a continuación los coeficientes de los predictores, obtenidos con el método de mínimos cuadrados. "
   ]
  },
  {
   "cell_type": "code",
   "execution_count": 8,
   "metadata": {},
   "outputs": [
    {
     "data": {
      "text/plain": [
       "Apps           5.379650\n",
       "Accept        -2.873004\n",
       "Enroll         2.209390\n",
       "Top10perc      0.085154\n",
       "Top25perc      3.678610\n",
       "F.Undergrad   -1.579863\n",
       "P.Undergrad   -2.473379\n",
       "Outstate       2.979427\n",
       "Room.Board     2.251583\n",
       "Books         -0.474490\n",
       "Personal      -1.112617\n",
       "PhD            1.874837\n",
       "Terminal      -1.390549\n",
       "S.F.Ratio      0.142993\n",
       "perc.alumni    3.653565\n",
       "Expend        -2.214409\n",
       "Private_Yes    1.999227\n",
       "dtype: float64"
      ]
     },
     "execution_count": 8,
     "metadata": {},
     "output_type": "execute_result"
    }
   ],
   "source": [
    "pd.Series(minimos_cuadrados.coef_, index=X.columns)"
   ]
  },
  {
   "cell_type": "markdown",
   "metadata": {},
   "source": [
    "    (c) Ajuste un modelo de Ridge regression en el conjunto de entrenamiento, con λ elegido por validación cruzada. Informe el error de prueba obtenido."
   ]
  },
  {
   "cell_type": "code",
   "execution_count": 9,
   "metadata": {},
   "outputs": [
    {
     "data": {
      "text/plain": [
       "RidgeCV(alphas=array([1.00000000e+10, 7.56463328e+09, 5.72236766e+09, 4.32876128e+09,\n",
       "       3.27454916e+09, 2.47707636e+09, 1.87381742e+09, 1.41747416e+09,\n",
       "       1.07226722e+09, 8.11130831e+08, 6.13590727e+08, 4.64158883e+08,\n",
       "       3.51119173e+08, 2.65608778e+08, 2.00923300e+08, 1.51991108e+08,\n",
       "       1.14975700e+08, 8.69749003e+07, 6.57933225e+07, 4.97702356e+07,\n",
       "       3.76493581e+07, 2.84803587e+0...\n",
       "       6.13590727e+00, 4.64158883e+00, 3.51119173e+00, 2.65608778e+00,\n",
       "       2.00923300e+00, 1.51991108e+00, 1.14975700e+00, 8.69749003e-01,\n",
       "       6.57933225e-01, 4.97702356e-01, 3.76493581e-01, 2.84803587e-01,\n",
       "       2.15443469e-01, 1.62975083e-01, 1.23284674e-01, 9.32603347e-02,\n",
       "       7.05480231e-02, 5.33669923e-02, 4.03701726e-02, 3.05385551e-02,\n",
       "       2.31012970e-02, 1.74752840e-02, 1.32194115e-02, 1.00000000e-02]),\n",
       "        cv=5, scoring='neg_mean_squared_error')"
      ]
     },
     "execution_count": 9,
     "metadata": {},
     "output_type": "execute_result"
    }
   ],
   "source": [
    "# Creamos un amplio rango de valores de alpha\n",
    "alphas = 10**np.linspace(10,-2,100)\n",
    "\n",
    "# Creamos el modelo de Regresión Ridge, y lo ajustamos \n",
    "ridge_cv = RidgeCV(alphas=alphas, cv=5, scoring='neg_mean_squared_error') \n",
    "ridge_cv.fit(scaler.transform(X_train), y_train) # Ajustando al Training set"
   ]
  },
  {
   "cell_type": "code",
   "execution_count": 10,
   "metadata": {},
   "outputs": [
    {
     "data": {
      "text/plain": [
       "75.64633275546291"
      ]
     },
     "execution_count": 10,
     "metadata": {},
     "output_type": "execute_result"
    }
   ],
   "source": [
    "# Mejor alpha \n",
    "ridge_cv.alpha_"
   ]
  },
  {
   "cell_type": "markdown",
   "metadata": {},
   "source": [
    "En este caso, el valor seleccionado por medio de validación cruzada es $\\lambda=75.6463$."
   ]
  },
  {
   "cell_type": "code",
   "execution_count": 11,
   "metadata": {},
   "outputs": [
    {
     "data": {
      "text/plain": [
       "129.9755886581944"
      ]
     },
     "execution_count": 11,
     "metadata": {},
     "output_type": "execute_result"
    }
   ],
   "source": [
    "# Predecimos la salida sobre el conjunto de test, usando el alpha seleccionado\n",
    "ridge = Ridge(alpha=ridge_cv.alpha_)\n",
    "ridge.fit(scaler.transform(X_train), y_train)\n",
    "mean_squared_error(y_test, ridge.predict(scaler.transform(X_test))) # MSE"
   ]
  },
  {
   "cell_type": "markdown",
   "metadata": {},
   "source": [
    "El error de prueba obtenido es 129.9756."
   ]
  },
  {
   "cell_type": "markdown",
   "metadata": {},
   "source": [
    "    (d) Ajustar un modelo The Lasso en el conjunto de entrenamiento, con λ elegido por validación cruzada. Informe el error de prueba obtenido, junto con el número de estimaciones de coeficientes distintos de cero."
   ]
  },
  {
   "cell_type": "code",
   "execution_count": 12,
   "metadata": {},
   "outputs": [
    {
     "data": {
      "text/plain": [
       "LassoCV(alphas=array([1.00000000e+10, 7.56463328e+09, 5.72236766e+09, 4.32876128e+09,\n",
       "       3.27454916e+09, 2.47707636e+09, 1.87381742e+09, 1.41747416e+09,\n",
       "       1.07226722e+09, 8.11130831e+08, 6.13590727e+08, 4.64158883e+08,\n",
       "       3.51119173e+08, 2.65608778e+08, 2.00923300e+08, 1.51991108e+08,\n",
       "       1.14975700e+08, 8.69749003e+07, 6.57933225e+07, 4.97702356e+07,\n",
       "       3.76493581e+07, 2.84803587e+0...\n",
       "       6.13590727e+00, 4.64158883e+00, 3.51119173e+00, 2.65608778e+00,\n",
       "       2.00923300e+00, 1.51991108e+00, 1.14975700e+00, 8.69749003e-01,\n",
       "       6.57933225e-01, 4.97702356e-01, 3.76493581e-01, 2.84803587e-01,\n",
       "       2.15443469e-01, 1.62975083e-01, 1.23284674e-01, 9.32603347e-02,\n",
       "       7.05480231e-02, 5.33669923e-02, 4.03701726e-02, 3.05385551e-02,\n",
       "       2.31012970e-02, 1.74752840e-02, 1.32194115e-02, 1.00000000e-02]),\n",
       "        cv=10, max_iter=10000)"
      ]
     },
     "execution_count": 12,
     "metadata": {},
     "output_type": "execute_result"
    }
   ],
   "source": [
    "# Creando los valores de alpha\n",
    "alphas = 10**np.linspace(10,-2,100)\n",
    "\n",
    "# Creamos el modelo Lasso, y lo ajustamos \n",
    "lassocv = LassoCV(alphas=alphas, cv=10, max_iter=10000)\n",
    "lassocv.fit(scaler.transform(X_train), y_train)"
   ]
  },
  {
   "cell_type": "code",
   "execution_count": 13,
   "metadata": {},
   "outputs": [
    {
     "data": {
      "text/plain": [
       "0.2848035868435805"
      ]
     },
     "execution_count": 13,
     "metadata": {},
     "output_type": "execute_result"
    }
   ],
   "source": [
    "# Mejor valor de alpha\n",
    "lassocv.alpha_"
   ]
  },
  {
   "cell_type": "markdown",
   "metadata": {},
   "source": [
    "En este caso, el valor seleccionado por medio de validación cruzada es $\\lambda=0.2848$."
   ]
  },
  {
   "cell_type": "code",
   "execution_count": 14,
   "metadata": {},
   "outputs": [
    {
     "data": {
      "text/plain": [
       "131.90633624478227"
      ]
     },
     "execution_count": 14,
     "metadata": {},
     "output_type": "execute_result"
    }
   ],
   "source": [
    "# Predecimos la salida sobre el conjunto de test, usando el alpha seleccionado\n",
    "lasso = Lasso(alpha=lassocv.alpha_)\n",
    "lasso.fit(scaler.transform(X_train), y_train)\n",
    "mean_squared_error(y_test, lasso.predict(scaler.transform(X_test))) #MSE"
   ]
  },
  {
   "cell_type": "markdown",
   "metadata": {},
   "source": [
    "El error de prueba obtenido es 131.9063."
   ]
  },
  {
   "cell_type": "code",
   "execution_count": 15,
   "metadata": {},
   "outputs": [
    {
     "data": {
      "text/plain": [
       "Apps           2.542917\n",
       "Accept         0.000000\n",
       "Enroll         0.000000\n",
       "Top10perc      0.044584\n",
       "Top25perc      3.718076\n",
       "F.Undergrad   -0.000000\n",
       "P.Undergrad   -2.363158\n",
       "Outstate       2.469199\n",
       "Room.Board     2.029848\n",
       "Books         -0.304256\n",
       "Personal      -0.999071\n",
       "PhD            0.346463\n",
       "Terminal      -0.000000\n",
       "S.F.Ratio      0.000000\n",
       "perc.alumni    3.526476\n",
       "Expend        -0.973119\n",
       "Private_Yes    1.622413\n",
       "dtype: float64"
      ]
     },
     "execution_count": 15,
     "metadata": {},
     "output_type": "execute_result"
    }
   ],
   "source": [
    "# Veamos los coeficientes \n",
    "pd.Series(lasso.coef_, index=X.columns)"
   ]
  },
  {
   "cell_type": "markdown",
   "metadata": {},
   "source": [
    "Podemos observar que el número de estimaciones con coeficientes distintos a cero es **12**. Se puede evidenciar en la tabla anterior."
   ]
  },
  {
   "cell_type": "markdown",
   "metadata": {},
   "source": [
    "    (e) Comente los resultados obtenidos. ¿Con qué precisión podemos predecir la cantidad de solicitudes recibidas en la universidad? ¿Hay mucha diferencia entre los errores de prueba resultantes de estos cuatros enfoques?"
   ]
  },
  {
   "cell_type": "markdown",
   "metadata": {},
   "source": [
    "Teniendo en cuenta los errores de prueba de los modelos utilizados, podemos ver que no hay gran diferencia. Sin embargo, observamos que el modelo que arroja mejores resultados, es decir que tiene un menor error, es el modelo Ridge con $\\lambda$ seleccionado con validación cruzada. "
   ]
  },
  {
   "cell_type": "markdown",
   "metadata": {},
   "source": [
    "[2] Cargue el dataset de juguete `sklearn.datasets.load_digits(n_class=10, return_X_y=False)`. \n",
    "\n",
    "    (a) Divida el conjunto de datos, en Training, Test. Realice el proceso de clasificación usando un clasificador KNN, y determinando el mejor número de vecinos y de componentes principales. Evalue el desempeño en el Test set.\n",
    "\n",
    "\n",
    "Evalue el desempeño usando la matriz de confusión y el balanced accuracy."
   ]
  },
  {
   "cell_type": "code",
   "execution_count": 40,
   "metadata": {},
   "outputs": [],
   "source": [
    "from sklearn.datasets import load_digits\n",
    "from sklearn.decomposition import PCA\n",
    "from sklearn.neighbors import KNeighborsClassifier"
   ]
  },
  {
   "cell_type": "code",
   "execution_count": 54,
   "metadata": {},
   "outputs": [],
   "source": [
    "data = load_digits(n_class=10, return_X_y=False)\n",
    "\n",
    "# Conjunto de entrenamiento (75%) y de prueba (25%)\n",
    "X_train, X_test, y_train, y_test = train_test_split(data.data,data.target,test_size=0.25, random_state = 42)\n",
    "\n",
    "# Estandarizamos el conjunto de entrenamiento \n",
    "scaler = StandardScaler().fit(X_train)\n",
    "\n",
    "pca = PCA() # Se instancia el objeto PCA\n",
    "X_reduced = pca.fit_transform(scaler.transform(X_train)) # Se ajusta y transforma\n",
    "\n",
    "mean_sqrtknn, mean_sqrtpca = [], []"
   ]
  },
  {
   "cell_type": "code",
   "execution_count": 55,
   "metadata": {},
   "outputs": [],
   "source": [
    "for i in range(1, 21):\n",
    "    knn = KNeighborsClassifier(n_neighbors=i)\n",
    "    knn.fit(scaler.transform(X_train), y_train)\n",
    "    mean_sqrtknn.append(mean_squared_error(y_test, knn.predict(scaler.transform(X_test)))) #MSE"
   ]
  },
  {
   "cell_type": "code",
   "execution_count": 56,
   "metadata": {},
   "outputs": [],
   "source": [
    "n = mean_sqrtknn.index(min(mean_sqrtknn)) + 1\n",
    "\n",
    "knn2 = KNeighborsClassifier(n_neighbors=n)\n",
    "knn2.fit(scaler.transform(X_train), y_train)\n",
    "\n",
    "for q in range(1, 21):        \n",
    "    X_reduced_test = pca.transform(scaler.transform(X_test))[:,:q]\n",
    "\n",
    "    knn2.fit(X_reduced[:,:q], y_train)\n",
    "\n",
    "    # Prediccion con el conjunto de prueba\n",
    "    pred = knn2.predict(X_reduced_test)\n",
    "    mean_sqrtpca.append(mean_squared_error(y_test, pred))"
   ]
  },
  {
   "cell_type": "code",
   "execution_count": 64,
   "metadata": {},
   "outputs": [
    {
     "name": "stdout",
     "output_type": "stream",
     "text": [
      "5 0.33111111111111113\n"
     ]
    }
   ],
   "source": [
    "print(mean_sqrtknn.index(min(mean_sqrtknn)) + 1, min(mean_sqrtknn))"
   ]
  },
  {
   "cell_type": "code",
   "execution_count": 65,
   "metadata": {
    "scrolled": true
   },
   "outputs": [
    {
     "name": "stdout",
     "output_type": "stream",
     "text": [
      "18 0.43777777777777777\n"
     ]
    }
   ],
   "source": [
    "print(mean_sqrtpca.index(min(mean_sqrtpca)) + 1, min(mean_sqrtpca))"
   ]
  },
  {
   "cell_type": "markdown",
   "metadata": {},
   "source": [
    "Note que el mejor número de vecinos es 5 y el mejor número de componentes principales es 18."
   ]
  }
 ],
 "metadata": {
  "kernelspec": {
   "display_name": "Python 3",
   "language": "python",
   "name": "python3"
  },
  "language_info": {
   "codemirror_mode": {
    "name": "ipython",
    "version": 3
   },
   "file_extension": ".py",
   "mimetype": "text/x-python",
   "name": "python",
   "nbconvert_exporter": "python",
   "pygments_lexer": "ipython3",
   "version": "3.7.9"
  },
  "nbTranslate": {
   "displayLangs": [
    "es",
    "en"
   ],
   "hotkey": "alt-t",
   "langInMainMenu": true,
   "sourceLang": "en",
   "targetLang": "es",
   "useGoogleTranslate": true
  },
  "varInspector": {
   "cols": {
    "lenName": 16,
    "lenType": 16,
    "lenVar": 40
   },
   "kernels_config": {
    "python": {
     "delete_cmd_postfix": "",
     "delete_cmd_prefix": "del ",
     "library": "var_list.py",
     "varRefreshCmd": "print(var_dic_list())"
    },
    "r": {
     "delete_cmd_postfix": ") ",
     "delete_cmd_prefix": "rm(",
     "library": "var_list.r",
     "varRefreshCmd": "cat(var_dic_list()) "
    }
   },
   "types_to_exclude": [
    "module",
    "function",
    "builtin_function_or_method",
    "instance",
    "_Feature"
   ],
   "window_display": false
  }
 },
 "nbformat": 4,
 "nbformat_minor": 4
}
