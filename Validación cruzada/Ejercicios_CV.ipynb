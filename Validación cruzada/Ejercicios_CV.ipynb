{
 "cells": [
  {
   "cell_type": "markdown",
   "metadata": {},
   "source": [
    "# Ejercicios CV"
   ]
  },
  {
   "cell_type": "markdown",
   "metadata": {},
   "source": [
    "[1] Utilice validación cruzada (10 folds) para encontrar el mejor número de vecinos para la clasificación del dataset de iris con KNN. Sugerencia: lo pueden encontrar en `sklearn.datasets.load_iris()`"
   ]
  },
  {
   "cell_type": "markdown",
   "metadata": {},
   "source": [
    "[2] Realice una validación cruzada en el siguiente conjunto de datos simulados:\n",
    "\n",
    "1. Genere un conjunto de datos simulados de la siguiente manera:\n",
    "```python\n",
    "np.random.seed(1) # import numpy as np\n",
    "x = np.random.randn(100)\n",
    "e = np.random.randn(100)\n",
    "y = x - 2*x**2 + e```\n",
    "En este conjunto de datos, ¿cúal es el número de observaciones y cúal es el número de predictores?\n",
    "\n",
    "2. Cree un diagrama de dispersión de X contra Y. Comente lo que encuentra.\n",
    "\n",
    "3. Establezca una semilla aleatoria, y luego calcule los errores LOOCV que resulta de ajustar los siguientes cuatro modelos con mínimos cuadrados (regresión lineal o polinómica):\n",
    "\n",
    "  1. $Y = \\beta_0 + \\beta_1 X + \\epsilon$\n",
    "\n",
    "  2. $Y = \\beta_0 + \\beta_1 X + \\beta_2 X^2 +\\epsilon$\n",
    "\n",
    "  3. $Y = \\beta_0 + \\beta_1 X + \\beta_2 X^2 + \\beta_3 X^3 + \\epsilon$\n",
    "\n",
    "  4. $Y = \\beta_0 + \\beta_1 X + \\beta_2 X^2 + \\beta_3 X^3 + \\beta_4 X^4 + \\epsilon$\n",
    "  \n",
    "  Puede resultarle útil utilizar un dataframe de Pandas para crear un solo conjunto de datos que contenga tanto X como Y. \n",
    "  \n",
    "4. Repita (3) usando otra semilla aleatoria e informe sus resultados. ¿Los resultados son los mismos que obtuvo en (3)? ¿Por qué?\n",
    "\n",
    "5. ¿Cuál de los modelos en (3) tuvo el error LOOCV más pequeño? ¿Es esto lo que esperaba? Explique la respuesta."
   ]
  }
 ],
 "metadata": {
  "kernelspec": {
   "display_name": "Python 3 (ipykernel)",
   "language": "python",
   "name": "python3"
  },
  "language_info": {
   "codemirror_mode": {
    "name": "ipython",
    "version": 3
   },
   "file_extension": ".py",
   "mimetype": "text/x-python",
   "name": "python",
   "nbconvert_exporter": "python",
   "pygments_lexer": "ipython3",
   "version": "3.8.10"
  },
  "nbTranslate": {
   "displayLangs": [
    "*"
   ],
   "hotkey": "alt-t",
   "langInMainMenu": true,
   "sourceLang": "en",
   "targetLang": "fr",
   "useGoogleTranslate": true
  },
  "varInspector": {
   "cols": {
    "lenName": 16,
    "lenType": 16,
    "lenVar": 40
   },
   "kernels_config": {
    "python": {
     "delete_cmd_postfix": "",
     "delete_cmd_prefix": "del ",
     "library": "var_list.py",
     "varRefreshCmd": "print(var_dic_list())"
    },
    "r": {
     "delete_cmd_postfix": ") ",
     "delete_cmd_prefix": "rm(",
     "library": "var_list.r",
     "varRefreshCmd": "cat(var_dic_list()) "
    }
   },
   "types_to_exclude": [
    "module",
    "function",
    "builtin_function_or_method",
    "instance",
    "_Feature"
   ],
   "window_display": false
  }
 },
 "nbformat": 4,
 "nbformat_minor": 2
}
