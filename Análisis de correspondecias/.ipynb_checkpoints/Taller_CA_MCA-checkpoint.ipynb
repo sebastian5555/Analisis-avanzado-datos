{
 "cells": [
  {
   "cell_type": "markdown",
   "id": "1c26eba0",
   "metadata": {},
   "source": [
    "Jessenia Piza, Carlos Sebastián Martínez y Manuela Acosta"
   ]
  },
  {
   "cell_type": "markdown",
   "id": "537e5e0d",
   "metadata": {
    "lang": "es"
   },
   "source": [
    "[1] El conjunto de datos `funding_research.csv` proviene de una organización de investigación y desarrollo científico que ha clasificado a 796 investigadores científicos en cinco categorías con el fin de asignar fondos de investigación. Los investigadores se clasifican de forma cruzada según su disciplina científica (las 10 filas de la tabla) y la categoría de financiación (las cinco columnas de la tabla). Las categorías están etiquetadas como $A, B, C, D$ y $E$, y están ordenadas de la categoría de financiación más alta a la más baja. En realidad, $A$ a $D$ son las categorías para los investigadores que reciben subvenciones de investigación, desde $A$ (más financiado) a $D$ (menos financiado), mientras que $E$ es una categoría asignada a los investigadores cuyas solicitudes no fueron exitosas (es decir, solicitud de financiamiento rechazada)."
   ]
  },
  {
   "cell_type": "code",
   "execution_count": 2,
   "id": "ead16a47",
   "metadata": {},
   "outputs": [],
   "source": [
    "import pandas as pd"
   ]
  },
  {
   "cell_type": "code",
   "execution_count": 3,
   "id": "18d74b90",
   "metadata": {
    "ExecuteTime": {
     "end_time": "2021-10-26T16:30:29.938160Z",
     "start_time": "2021-10-26T16:30:29.920210Z"
    }
   },
   "outputs": [
    {
     "data": {
      "text/html": [
       "<div>\n",
       "<style scoped>\n",
       "    .dataframe tbody tr th:only-of-type {\n",
       "        vertical-align: middle;\n",
       "    }\n",
       "\n",
       "    .dataframe tbody tr th {\n",
       "        vertical-align: top;\n",
       "    }\n",
       "\n",
       "    .dataframe thead th {\n",
       "        text-align: right;\n",
       "    }\n",
       "</style>\n",
       "<table border=\"1\" class=\"dataframe\">\n",
       "  <thead>\n",
       "    <tr style=\"text-align: right;\">\n",
       "      <th></th>\n",
       "      <th>A</th>\n",
       "      <th>B</th>\n",
       "      <th>C</th>\n",
       "      <th>D</th>\n",
       "      <th>E</th>\n",
       "    </tr>\n",
       "    <tr>\n",
       "      <th>scientific_areas</th>\n",
       "      <th></th>\n",
       "      <th></th>\n",
       "      <th></th>\n",
       "      <th></th>\n",
       "      <th></th>\n",
       "    </tr>\n",
       "  </thead>\n",
       "  <tbody>\n",
       "    <tr>\n",
       "      <th>Geology</th>\n",
       "      <td>3</td>\n",
       "      <td>19</td>\n",
       "      <td>39</td>\n",
       "      <td>14</td>\n",
       "      <td>10</td>\n",
       "    </tr>\n",
       "    <tr>\n",
       "      <th>Biochemistry</th>\n",
       "      <td>1</td>\n",
       "      <td>2</td>\n",
       "      <td>13</td>\n",
       "      <td>1</td>\n",
       "      <td>12</td>\n",
       "    </tr>\n",
       "    <tr>\n",
       "      <th>Chemistry</th>\n",
       "      <td>6</td>\n",
       "      <td>25</td>\n",
       "      <td>49</td>\n",
       "      <td>21</td>\n",
       "      <td>29</td>\n",
       "    </tr>\n",
       "    <tr>\n",
       "      <th>Zoology</th>\n",
       "      <td>3</td>\n",
       "      <td>15</td>\n",
       "      <td>41</td>\n",
       "      <td>35</td>\n",
       "      <td>26</td>\n",
       "    </tr>\n",
       "    <tr>\n",
       "      <th>Physics</th>\n",
       "      <td>10</td>\n",
       "      <td>22</td>\n",
       "      <td>47</td>\n",
       "      <td>9</td>\n",
       "      <td>26</td>\n",
       "    </tr>\n",
       "    <tr>\n",
       "      <th>Engineering</th>\n",
       "      <td>3</td>\n",
       "      <td>11</td>\n",
       "      <td>25</td>\n",
       "      <td>15</td>\n",
       "      <td>34</td>\n",
       "    </tr>\n",
       "    <tr>\n",
       "      <th>Microbiology</th>\n",
       "      <td>1</td>\n",
       "      <td>6</td>\n",
       "      <td>14</td>\n",
       "      <td>5</td>\n",
       "      <td>11</td>\n",
       "    </tr>\n",
       "    <tr>\n",
       "      <th>Botany</th>\n",
       "      <td>0</td>\n",
       "      <td>12</td>\n",
       "      <td>34</td>\n",
       "      <td>17</td>\n",
       "      <td>23</td>\n",
       "    </tr>\n",
       "    <tr>\n",
       "      <th>Statistics</th>\n",
       "      <td>2</td>\n",
       "      <td>5</td>\n",
       "      <td>11</td>\n",
       "      <td>4</td>\n",
       "      <td>7</td>\n",
       "    </tr>\n",
       "    <tr>\n",
       "      <th>Mathematics</th>\n",
       "      <td>2</td>\n",
       "      <td>11</td>\n",
       "      <td>37</td>\n",
       "      <td>8</td>\n",
       "      <td>20</td>\n",
       "    </tr>\n",
       "  </tbody>\n",
       "</table>\n",
       "</div>"
      ],
      "text/plain": [
       "                   A   B   C   D   E\n",
       "scientific_areas                    \n",
       "Geology            3  19  39  14  10\n",
       "Biochemistry       1   2  13   1  12\n",
       "Chemistry          6  25  49  21  29\n",
       "Zoology            3  15  41  35  26\n",
       "Physics           10  22  47   9  26\n",
       "Engineering        3  11  25  15  34\n",
       "Microbiology       1   6  14   5  11\n",
       "Botany             0  12  34  17  23\n",
       "Statistics         2   5  11   4   7\n",
       "Mathematics        2  11  37   8  20"
      ]
     },
     "execution_count": 3,
     "metadata": {},
     "output_type": "execute_result"
    }
   ],
   "source": [
    "df2 = pd.read_csv('funding_research.csv', index_col='scientific_areas')\n",
    "df2"
   ]
  },
  {
   "cell_type": "markdown",
   "id": "295d7d77",
   "metadata": {},
   "source": [
    "Para este dataset, realice diversos análisis usando CA. Determine la descomposición de inercia a lo largo de 4 ejes principales. Calcule la inercia en cada eje e interprete. Determine las coordenadas para cada eje y realice gráficas de los perfiles por fila y columna (separado y de forma conjunta). Interprete las gráficas."
   ]
  },
  {
   "cell_type": "markdown",
   "id": "229ec61c",
   "metadata": {},
   "source": [
    "[3] Realice un pipeline que involucre MCA y un clasificador (regresion logística, LDA, etc.) y realice la validación cruzada usando sólo las variables categóricas (`df`) del dataset del Titanic.\n",
    "\n",
    "[4] Usando un pipeline similar al anterior encuentre el mejor número de componentes principales usando MCA y validación cruzada (puede usar GridSearchCV). Compruebe el mejor modelo en un test set independiente.\n",
    "\n",
    "[5] Use `sklearn.compose.ColumnTransformer`(ver [este ejemplo](https://scikit-learn.org/stable/auto_examples/compose/plot_column_transformer_mixed_types.html#sphx-glr-auto-examples-compose-plot-column-transformer-mixed-types-py)) para realizar PCA sobre las variables numéricas y MCA para las variables categóricas. Incluya este tratamiento en un pipeline junto con un clasificador y compruebe el desempeño del resultado mediante validación cruzada.\n",
    "\n",
    "[6] Ahora realice un procedimiento combinando los procesos de [3] y [2]. Es decir, realice un tratamiento de variables según el tipo, construya un pipeline combinando PCA, MCA y un clasificador, y encuentre el mejor número de componentes principales tanto para PCA cómo para MCA (usando GridSearchCV). Compruebe el resultado en un test set."
   ]
  },
  {
   "cell_type": "code",
   "execution_count": null,
   "id": "9e7db4e2",
   "metadata": {},
   "outputs": [],
   "source": []
  }
 ],
 "metadata": {
  "kernelspec": {
   "display_name": "Python 3 (ipykernel)",
   "language": "python",
   "name": "python3"
  },
  "language_info": {
   "codemirror_mode": {
    "name": "ipython",
    "version": 3
   },
   "file_extension": ".py",
   "mimetype": "text/x-python",
   "name": "python",
   "nbconvert_exporter": "python",
   "pygments_lexer": "ipython3",
   "version": "3.7.9"
  },
  "nbTranslate": {
   "displayLangs": [
    "es",
    "en"
   ],
   "hotkey": "alt-t",
   "langInMainMenu": true,
   "sourceLang": "en",
   "targetLang": "es",
   "useGoogleTranslate": true
  }
 },
 "nbformat": 4,
 "nbformat_minor": 5
}
