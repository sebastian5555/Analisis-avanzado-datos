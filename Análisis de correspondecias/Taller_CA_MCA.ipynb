{
 "cells": [
  {
   "cell_type": "markdown",
   "id": "5b449dd2",
   "metadata": {},
   "source": [
    "Jessenia Piza, Carlos Sebastián Martínez y Manuela Acosta"
   ]
  },
  {
   "cell_type": "markdown",
   "id": "537e5e0d",
   "metadata": {
    "lang": "es"
   },
   "source": [
    "[1] El conjunto de datos `funding_research.csv` proviene de una organización de investigación y desarrollo científico que ha clasificado a 796 investigadores científicos en cinco categorías con el fin de asignar fondos de investigación. Los investigadores se clasifican de forma cruzada según su disciplina científica (las 10 filas de la tabla) y la categoría de financiación (las cinco columnas de la tabla). Las categorías están etiquetadas como $A, B, C, D$ y $E$, y están ordenadas de la categoría de financiación más alta a la más baja. En realidad, $A$ a $D$ son las categorías para los investigadores que reciben subvenciones de investigación, desde $A$ (más financiado) a $D$ (menos financiado), mientras que $E$ es una categoría asignada a los investigadores cuyas solicitudes no fueron exitosas (es decir, solicitud de financiamiento rechazada)."
   ]
  },
  {
   "cell_type": "code",
   "execution_count": 49,
   "id": "bf5a51aa",
   "metadata": {},
   "outputs": [],
   "source": [
    "import pandas as pd\n",
    "from prince import CA\n",
    "import seaborn as sns\n",
    "import prince\n",
    "from sklearn.pipeline import Pipeline\n",
    "from sklearn.model_selection import GridSearchCV, cross_val_score\n",
    "from sklearn.linear_model import LogisticRegression\n",
    "from sklearn.impute import SimpleImputer\n",
    "from sklearn.preprocessing import StandardScaler\n",
    "from sklearn.decomposition import PCA\n",
    "from sklearn.compose import ColumnTransformer"
   ]
  },
  {
   "cell_type": "code",
   "execution_count": 3,
   "id": "18d74b90",
   "metadata": {
    "ExecuteTime": {
     "end_time": "2021-10-26T16:30:29.938160Z",
     "start_time": "2021-10-26T16:30:29.920210Z"
    }
   },
   "outputs": [
    {
     "data": {
      "text/html": [
       "<div>\n",
       "<style scoped>\n",
       "    .dataframe tbody tr th:only-of-type {\n",
       "        vertical-align: middle;\n",
       "    }\n",
       "\n",
       "    .dataframe tbody tr th {\n",
       "        vertical-align: top;\n",
       "    }\n",
       "\n",
       "    .dataframe thead th {\n",
       "        text-align: right;\n",
       "    }\n",
       "</style>\n",
       "<table border=\"1\" class=\"dataframe\">\n",
       "  <thead>\n",
       "    <tr style=\"text-align: right;\">\n",
       "      <th></th>\n",
       "      <th>A</th>\n",
       "      <th>B</th>\n",
       "      <th>C</th>\n",
       "      <th>D</th>\n",
       "      <th>E</th>\n",
       "    </tr>\n",
       "    <tr>\n",
       "      <th>scientific_areas</th>\n",
       "      <th></th>\n",
       "      <th></th>\n",
       "      <th></th>\n",
       "      <th></th>\n",
       "      <th></th>\n",
       "    </tr>\n",
       "  </thead>\n",
       "  <tbody>\n",
       "    <tr>\n",
       "      <th>Geology</th>\n",
       "      <td>3</td>\n",
       "      <td>19</td>\n",
       "      <td>39</td>\n",
       "      <td>14</td>\n",
       "      <td>10</td>\n",
       "    </tr>\n",
       "    <tr>\n",
       "      <th>Biochemistry</th>\n",
       "      <td>1</td>\n",
       "      <td>2</td>\n",
       "      <td>13</td>\n",
       "      <td>1</td>\n",
       "      <td>12</td>\n",
       "    </tr>\n",
       "    <tr>\n",
       "      <th>Chemistry</th>\n",
       "      <td>6</td>\n",
       "      <td>25</td>\n",
       "      <td>49</td>\n",
       "      <td>21</td>\n",
       "      <td>29</td>\n",
       "    </tr>\n",
       "    <tr>\n",
       "      <th>Zoology</th>\n",
       "      <td>3</td>\n",
       "      <td>15</td>\n",
       "      <td>41</td>\n",
       "      <td>35</td>\n",
       "      <td>26</td>\n",
       "    </tr>\n",
       "    <tr>\n",
       "      <th>Physics</th>\n",
       "      <td>10</td>\n",
       "      <td>22</td>\n",
       "      <td>47</td>\n",
       "      <td>9</td>\n",
       "      <td>26</td>\n",
       "    </tr>\n",
       "    <tr>\n",
       "      <th>Engineering</th>\n",
       "      <td>3</td>\n",
       "      <td>11</td>\n",
       "      <td>25</td>\n",
       "      <td>15</td>\n",
       "      <td>34</td>\n",
       "    </tr>\n",
       "    <tr>\n",
       "      <th>Microbiology</th>\n",
       "      <td>1</td>\n",
       "      <td>6</td>\n",
       "      <td>14</td>\n",
       "      <td>5</td>\n",
       "      <td>11</td>\n",
       "    </tr>\n",
       "    <tr>\n",
       "      <th>Botany</th>\n",
       "      <td>0</td>\n",
       "      <td>12</td>\n",
       "      <td>34</td>\n",
       "      <td>17</td>\n",
       "      <td>23</td>\n",
       "    </tr>\n",
       "    <tr>\n",
       "      <th>Statistics</th>\n",
       "      <td>2</td>\n",
       "      <td>5</td>\n",
       "      <td>11</td>\n",
       "      <td>4</td>\n",
       "      <td>7</td>\n",
       "    </tr>\n",
       "    <tr>\n",
       "      <th>Mathematics</th>\n",
       "      <td>2</td>\n",
       "      <td>11</td>\n",
       "      <td>37</td>\n",
       "      <td>8</td>\n",
       "      <td>20</td>\n",
       "    </tr>\n",
       "  </tbody>\n",
       "</table>\n",
       "</div>"
      ],
      "text/plain": [
       "                   A   B   C   D   E\n",
       "scientific_areas                    \n",
       "Geology            3  19  39  14  10\n",
       "Biochemistry       1   2  13   1  12\n",
       "Chemistry          6  25  49  21  29\n",
       "Zoology            3  15  41  35  26\n",
       "Physics           10  22  47   9  26\n",
       "Engineering        3  11  25  15  34\n",
       "Microbiology       1   6  14   5  11\n",
       "Botany             0  12  34  17  23\n",
       "Statistics         2   5  11   4   7\n",
       "Mathematics        2  11  37   8  20"
      ]
     },
     "execution_count": 3,
     "metadata": {},
     "output_type": "execute_result"
    }
   ],
   "source": [
    "df2 = pd.read_csv('funding_research.csv', index_col='scientific_areas')\n",
    "df2"
   ]
  },
  {
   "cell_type": "markdown",
   "id": "295d7d77",
   "metadata": {},
   "source": [
    "Para este dataset, realice diversos análisis usando CA. Determine la descomposición de inercia a lo largo de 4 ejes principales. Calcule la inercia en cada eje e interprete. Determine las coordenadas para cada eje y realice gráficas de los perfiles por fila y columna (separado y de forma conjunta). Interprete las gráficas."
   ]
  },
  {
   "cell_type": "code",
   "execution_count": 5,
   "id": "4717a3f7",
   "metadata": {},
   "outputs": [
    {
     "data": {
      "text/plain": [
       "CA()"
      ]
     },
     "execution_count": 5,
     "metadata": {},
     "output_type": "execute_result"
    }
   ],
   "source": [
    "ca = CA(n_components=2) #Definimos la instancia de CA para 2 componentes \n",
    "ca.fit(df2) #Entrenamos el modelo con el dataframe"
   ]
  },
  {
   "cell_type": "markdown",
   "id": "f14687a5",
   "metadata": {},
   "source": [
    "A continuación, podemos ver la deconstrucción de la clasificación de los investigadores en 2 componentes."
   ]
  },
  {
   "cell_type": "code",
   "execution_count": 6,
   "id": "52884679",
   "metadata": {},
   "outputs": [
    {
     "data": {
      "text/html": [
       "<div>\n",
       "<style scoped>\n",
       "    .dataframe tbody tr th:only-of-type {\n",
       "        vertical-align: middle;\n",
       "    }\n",
       "\n",
       "    .dataframe tbody tr th {\n",
       "        vertical-align: top;\n",
       "    }\n",
       "\n",
       "    .dataframe thead th {\n",
       "        text-align: right;\n",
       "    }\n",
       "</style>\n",
       "<table border=\"1\" class=\"dataframe\">\n",
       "  <thead>\n",
       "    <tr style=\"text-align: right;\">\n",
       "      <th></th>\n",
       "      <th>0</th>\n",
       "      <th>1</th>\n",
       "    </tr>\n",
       "  </thead>\n",
       "  <tbody>\n",
       "    <tr>\n",
       "      <th>Geology</th>\n",
       "      <td>-0.076401</td>\n",
       "      <td>0.302569</td>\n",
       "    </tr>\n",
       "    <tr>\n",
       "      <th>Biochemistry</th>\n",
       "      <td>-0.179892</td>\n",
       "      <td>-0.454996</td>\n",
       "    </tr>\n",
       "    <tr>\n",
       "      <th>Chemistry</th>\n",
       "      <td>-0.037644</td>\n",
       "      <td>0.073353</td>\n",
       "    </tr>\n",
       "    <tr>\n",
       "      <th>Zoology</th>\n",
       "      <td>0.327365</td>\n",
       "      <td>0.102283</td>\n",
       "    </tr>\n",
       "    <tr>\n",
       "      <th>Physics</th>\n",
       "      <td>-0.315552</td>\n",
       "      <td>0.026997</td>\n",
       "    </tr>\n",
       "    <tr>\n",
       "      <th>Engineering</th>\n",
       "      <td>0.117495</td>\n",
       "      <td>-0.291712</td>\n",
       "    </tr>\n",
       "    <tr>\n",
       "      <th>Microbiology</th>\n",
       "      <td>-0.012766</td>\n",
       "      <td>-0.109656</td>\n",
       "    </tr>\n",
       "    <tr>\n",
       "      <th>Botany</th>\n",
       "      <td>0.178695</td>\n",
       "      <td>-0.038501</td>\n",
       "    </tr>\n",
       "    <tr>\n",
       "      <th>Statistics</th>\n",
       "      <td>-0.124638</td>\n",
       "      <td>0.014162</td>\n",
       "    </tr>\n",
       "    <tr>\n",
       "      <th>Mathematics</th>\n",
       "      <td>-0.106751</td>\n",
       "      <td>-0.061316</td>\n",
       "    </tr>\n",
       "  </tbody>\n",
       "</table>\n",
       "</div>"
      ],
      "text/plain": [
       "                     0         1\n",
       "Geology      -0.076401  0.302569\n",
       "Biochemistry -0.179892 -0.454996\n",
       "Chemistry    -0.037644  0.073353\n",
       "Zoology       0.327365  0.102283\n",
       "Physics      -0.315552  0.026997\n",
       "Engineering   0.117495 -0.291712\n",
       "Microbiology -0.012766 -0.109656\n",
       "Botany        0.178695 -0.038501\n",
       "Statistics   -0.124638  0.014162\n",
       "Mathematics  -0.106751 -0.061316"
      ]
     },
     "metadata": {},
     "output_type": "display_data"
    },
    {
     "data": {
      "image/png": "[encoded data removed]",
      "text/plain": [
       "<Figure size 432x288 with 1 Axes>"
      ]
     },
     "metadata": {
      "needs_background": "light"
     },
     "output_type": "display_data"
    }
   ],
   "source": [
    "%matplotlib inline\n",
    "\n",
    "display(ca.row_coordinates(df2))\n",
    "ca.row_coordinates(df2).plot.scatter(0, 1);"
   ]
  },
  {
   "cell_type": "markdown",
   "id": "58395be4",
   "metadata": {},
   "source": [
    "A partir de la gráfica anterior se ve ina gran separación entre estas componentes."
   ]
  },
  {
   "cell_type": "markdown",
   "id": "5cfcdfca",
   "metadata": {},
   "source": [
    "En la parte anterior se visualizaron las filas, a continuación visualizaremos las columnas de este nuevo espacio."
   ]
  },
  {
   "cell_type": "code",
   "execution_count": 7,
   "id": "7e8b71df",
   "metadata": {},
   "outputs": [
    {
     "data": {
      "text/html": [
       "<div>\n",
       "<style scoped>\n",
       "    .dataframe tbody tr th:only-of-type {\n",
       "        vertical-align: middle;\n",
       "    }\n",
       "\n",
       "    .dataframe tbody tr th {\n",
       "        vertical-align: top;\n",
       "    }\n",
       "\n",
       "    .dataframe thead th {\n",
       "        text-align: right;\n",
       "    }\n",
       "</style>\n",
       "<table border=\"1\" class=\"dataframe\">\n",
       "  <thead>\n",
       "    <tr style=\"text-align: right;\">\n",
       "      <th></th>\n",
       "      <th>0</th>\n",
       "      <th>1</th>\n",
       "    </tr>\n",
       "  </thead>\n",
       "  <tbody>\n",
       "    <tr>\n",
       "      <th>A</th>\n",
       "      <td>-0.478124</td>\n",
       "      <td>0.072279</td>\n",
       "    </tr>\n",
       "    <tr>\n",
       "      <th>B</th>\n",
       "      <td>-0.127251</td>\n",
       "      <td>0.173388</td>\n",
       "    </tr>\n",
       "    <tr>\n",
       "      <th>C</th>\n",
       "      <td>-0.082502</td>\n",
       "      <td>0.049822</td>\n",
       "    </tr>\n",
       "    <tr>\n",
       "      <th>D</th>\n",
       "      <td>0.390445</td>\n",
       "      <td>0.139290</td>\n",
       "    </tr>\n",
       "    <tr>\n",
       "      <th>E</th>\n",
       "      <td>0.031911</td>\n",
       "      <td>-0.292160</td>\n",
       "    </tr>\n",
       "  </tbody>\n",
       "</table>\n",
       "</div>"
      ],
      "text/plain": [
       "          0         1\n",
       "A -0.478124  0.072279\n",
       "B -0.127251  0.173388\n",
       "C -0.082502  0.049822\n",
       "D  0.390445  0.139290\n",
       "E  0.031911 -0.292160"
      ]
     },
     "metadata": {},
     "output_type": "display_data"
    },
    {
     "data": {
      "image/png": "[encoded data removed]",
      "text/plain": [
       "<Figure size 432x288 with 1 Axes>"
      ]
     },
     "metadata": {
      "needs_background": "light"
     },
     "output_type": "display_data"
    }
   ],
   "source": [
    "display(ca.column_coordinates(df2))\n",
    "ca.column_coordinates(df2).plot.scatter(0, 1);"
   ]
  },
  {
   "cell_type": "markdown",
   "id": "6f462fad",
   "metadata": {},
   "source": [
    "Nuevamente, se ve una gran separación entre las componentes."
   ]
  },
  {
   "cell_type": "markdown",
   "id": "4672f573",
   "metadata": {},
   "source": [
    "Además, podemos visualizar tanto las filas como las columnas juntas, así:"
   ]
  },
  {
   "cell_type": "code",
   "execution_count": 8,
   "id": "837568fa",
   "metadata": {},
   "outputs": [
    {
     "data": {
      "image/png": "[encoded data removed]",
      "text/plain": [
       "<Figure size 576x576 with 1 Axes>"
      ]
     },
     "metadata": {
      "needs_background": "light"
     },
     "output_type": "display_data"
    }
   ],
   "source": [
    "ca.plot_coordinates(df2, figsize=(8, 8));"
   ]
  },
  {
   "cell_type": "markdown",
   "id": "1990cd03",
   "metadata": {},
   "source": [
    "Veamos algunas métricas:"
   ]
  },
  {
   "cell_type": "code",
   "execution_count": 10,
   "id": "8cd7652d",
   "metadata": {},
   "outputs": [
    {
     "name": "stdout",
     "output_type": "stream",
     "text": [
      "Eigen values:  [0.039116521837875305, 0.030380805443940125]\n",
      "Inercia total:  0.08287877841175875\n",
      "Inercia explicada:  [0.47197271228512094, 0.36656917519949506]\n"
     ]
    }
   ],
   "source": [
    "print('Eigen values: ', ca.eigenvalues_)\n",
    "print('Inercia total: ', ca.total_inertia_)\n",
    "print('Inercia explicada: ', ca.explained_inertia_)"
   ]
  },
  {
   "cell_type": "markdown",
   "id": "bed1f045",
   "metadata": {},
   "source": [
    "[3] Realice un pipeline que involucre MCA y un clasificador (regresion logística, LDA, etc.) y realice la validación cruzada usando sólo las variables categóricas (`df`) del dataset del Titanic."
   ]
  },
  {
   "cell_type": "code",
   "execution_count": 12,
   "id": "785f08de",
   "metadata": {},
   "outputs": [
    {
     "data": {
      "text/html": [
       "<div>\n",
       "<style scoped>\n",
       "    .dataframe tbody tr th:only-of-type {\n",
       "        vertical-align: middle;\n",
       "    }\n",
       "\n",
       "    .dataframe tbody tr th {\n",
       "        vertical-align: top;\n",
       "    }\n",
       "\n",
       "    .dataframe thead th {\n",
       "        text-align: right;\n",
       "    }\n",
       "</style>\n",
       "<table border=\"1\" class=\"dataframe\">\n",
       "  <thead>\n",
       "    <tr style=\"text-align: right;\">\n",
       "      <th></th>\n",
       "      <th>survived</th>\n",
       "      <th>pclass</th>\n",
       "      <th>sex</th>\n",
       "      <th>age</th>\n",
       "      <th>sibsp</th>\n",
       "      <th>parch</th>\n",
       "      <th>fare</th>\n",
       "      <th>embarked</th>\n",
       "      <th>class</th>\n",
       "      <th>who</th>\n",
       "      <th>adult_male</th>\n",
       "      <th>deck</th>\n",
       "      <th>embark_town</th>\n",
       "      <th>alive</th>\n",
       "      <th>alone</th>\n",
       "    </tr>\n",
       "  </thead>\n",
       "  <tbody>\n",
       "    <tr>\n",
       "      <th>0</th>\n",
       "      <td>0</td>\n",
       "      <td>3</td>\n",
       "      <td>male</td>\n",
       "      <td>22.0</td>\n",
       "      <td>1</td>\n",
       "      <td>0</td>\n",
       "      <td>7.2500</td>\n",
       "      <td>S</td>\n",
       "      <td>Third</td>\n",
       "      <td>man</td>\n",
       "      <td>True</td>\n",
       "      <td>NaN</td>\n",
       "      <td>Southampton</td>\n",
       "      <td>no</td>\n",
       "      <td>False</td>\n",
       "    </tr>\n",
       "    <tr>\n",
       "      <th>1</th>\n",
       "      <td>1</td>\n",
       "      <td>1</td>\n",
       "      <td>female</td>\n",
       "      <td>38.0</td>\n",
       "      <td>1</td>\n",
       "      <td>0</td>\n",
       "      <td>71.2833</td>\n",
       "      <td>C</td>\n",
       "      <td>First</td>\n",
       "      <td>woman</td>\n",
       "      <td>False</td>\n",
       "      <td>C</td>\n",
       "      <td>Cherbourg</td>\n",
       "      <td>yes</td>\n",
       "      <td>False</td>\n",
       "    </tr>\n",
       "    <tr>\n",
       "      <th>2</th>\n",
       "      <td>1</td>\n",
       "      <td>3</td>\n",
       "      <td>female</td>\n",
       "      <td>26.0</td>\n",
       "      <td>0</td>\n",
       "      <td>0</td>\n",
       "      <td>7.9250</td>\n",
       "      <td>S</td>\n",
       "      <td>Third</td>\n",
       "      <td>woman</td>\n",
       "      <td>False</td>\n",
       "      <td>NaN</td>\n",
       "      <td>Southampton</td>\n",
       "      <td>yes</td>\n",
       "      <td>True</td>\n",
       "    </tr>\n",
       "    <tr>\n",
       "      <th>3</th>\n",
       "      <td>1</td>\n",
       "      <td>1</td>\n",
       "      <td>female</td>\n",
       "      <td>35.0</td>\n",
       "      <td>1</td>\n",
       "      <td>0</td>\n",
       "      <td>53.1000</td>\n",
       "      <td>S</td>\n",
       "      <td>First</td>\n",
       "      <td>woman</td>\n",
       "      <td>False</td>\n",
       "      <td>C</td>\n",
       "      <td>Southampton</td>\n",
       "      <td>yes</td>\n",
       "      <td>False</td>\n",
       "    </tr>\n",
       "    <tr>\n",
       "      <th>4</th>\n",
       "      <td>0</td>\n",
       "      <td>3</td>\n",
       "      <td>male</td>\n",
       "      <td>35.0</td>\n",
       "      <td>0</td>\n",
       "      <td>0</td>\n",
       "      <td>8.0500</td>\n",
       "      <td>S</td>\n",
       "      <td>Third</td>\n",
       "      <td>man</td>\n",
       "      <td>True</td>\n",
       "      <td>NaN</td>\n",
       "      <td>Southampton</td>\n",
       "      <td>no</td>\n",
       "      <td>True</td>\n",
       "    </tr>\n",
       "  </tbody>\n",
       "</table>\n",
       "</div>"
      ],
      "text/plain": [
       "   survived  pclass     sex   age  sibsp  parch     fare embarked  class  \\\n",
       "0         0       3    male  22.0      1      0   7.2500        S  Third   \n",
       "1         1       1  female  38.0      1      0  71.2833        C  First   \n",
       "2         1       3  female  26.0      0      0   7.9250        S  Third   \n",
       "3         1       1  female  35.0      1      0  53.1000        S  First   \n",
       "4         0       3    male  35.0      0      0   8.0500        S  Third   \n",
       "\n",
       "     who  adult_male deck  embark_town alive  alone  \n",
       "0    man        True  NaN  Southampton    no  False  \n",
       "1  woman       False    C    Cherbourg   yes  False  \n",
       "2  woman       False  NaN  Southampton   yes   True  \n",
       "3  woman       False    C  Southampton   yes  False  \n",
       "4    man        True  NaN  Southampton    no   True  "
      ]
     },
     "execution_count": 12,
     "metadata": {},
     "output_type": "execute_result"
    }
   ],
   "source": [
    "#Importando el dataset del Titanic\n",
    "data = sns.load_dataset('titanic').dropna(subset=['age'])\n",
    "data.head()"
   ]
  },
  {
   "cell_type": "markdown",
   "id": "9c833d33",
   "metadata": {},
   "source": [
    "Creamos nuestro dataframe con las variables categóricas, y creamos una instancia de MCA con dos componentes, y la entrenamos con el dataframe creado."
   ]
  },
  {
   "cell_type": "code",
   "execution_count": 19,
   "id": "edaba404",
   "metadata": {},
   "outputs": [
    {
     "data": {
      "text/plain": [
       "MCA()"
      ]
     },
     "execution_count": 19,
     "metadata": {},
     "output_type": "execute_result"
    }
   ],
   "source": [
    "df3 = data[['sex', 'embarked', 'class']]\n",
    "\n",
    "mca = prince.MCA(n_components=2)\n",
    "mca.fit(df3)"
   ]
  },
  {
   "cell_type": "markdown",
   "id": "08c0e5d9",
   "metadata": {},
   "source": [
    "Visualizamos la estructura de los loadings."
   ]
  },
  {
   "cell_type": "code",
   "execution_count": 20,
   "id": "8d2429ec",
   "metadata": {},
   "outputs": [
    {
     "data": {
      "image/png": "[encoded data removed]",
      "text/plain": [
       "<Figure size 720x720 with 1 Axes>"
      ]
     },
     "metadata": {
      "needs_background": "light"
     },
     "output_type": "display_data"
    }
   ],
   "source": [
    "mca.plot_coordinates(df3,\n",
    "                     row_points_alpha=.2,\n",
    "                     figsize=(10, 10),\n",
    "                     show_column_labels=True\n",
    "                    );"
   ]
  },
  {
   "cell_type": "markdown",
   "id": "a28a07c9",
   "metadata": {},
   "source": [
    "Creamos una instancia de mca y lo transformamos con el dataframe."
   ]
  },
  {
   "cell_type": "code",
   "execution_count": 22,
   "id": "64817ae2",
   "metadata": {},
   "outputs": [
    {
     "data": {
      "text/html": [
       "<div>\n",
       "<style scoped>\n",
       "    .dataframe tbody tr th:only-of-type {\n",
       "        vertical-align: middle;\n",
       "    }\n",
       "\n",
       "    .dataframe tbody tr th {\n",
       "        vertical-align: top;\n",
       "    }\n",
       "\n",
       "    .dataframe thead th {\n",
       "        text-align: right;\n",
       "    }\n",
       "</style>\n",
       "<table border=\"1\" class=\"dataframe\">\n",
       "  <thead>\n",
       "    <tr style=\"text-align: right;\">\n",
       "      <th></th>\n",
       "      <th>0</th>\n",
       "      <th>1</th>\n",
       "    </tr>\n",
       "  </thead>\n",
       "  <tbody>\n",
       "    <tr>\n",
       "      <th>0</th>\n",
       "      <td>-0.594207</td>\n",
       "      <td>0.291893</td>\n",
       "    </tr>\n",
       "    <tr>\n",
       "      <th>1</th>\n",
       "      <td>1.709759</td>\n",
       "      <td>0.169943</td>\n",
       "    </tr>\n",
       "    <tr>\n",
       "      <th>2</th>\n",
       "      <td>-0.143988</td>\n",
       "      <td>-0.013231</td>\n",
       "    </tr>\n",
       "    <tr>\n",
       "      <th>3</th>\n",
       "      <td>0.763679</td>\n",
       "      <td>-0.235846</td>\n",
       "    </tr>\n",
       "    <tr>\n",
       "      <th>4</th>\n",
       "      <td>-0.594207</td>\n",
       "      <td>0.291893</td>\n",
       "    </tr>\n",
       "    <tr>\n",
       "      <th>...</th>\n",
       "      <td>...</td>\n",
       "      <td>...</td>\n",
       "    </tr>\n",
       "    <tr>\n",
       "      <th>885</th>\n",
       "      <td>-0.383991</td>\n",
       "      <td>1.643077</td>\n",
       "    </tr>\n",
       "    <tr>\n",
       "      <th>886</th>\n",
       "      <td>-0.470912</td>\n",
       "      <td>-0.787732</td>\n",
       "    </tr>\n",
       "    <tr>\n",
       "      <th>887</th>\n",
       "      <td>0.763679</td>\n",
       "      <td>-0.235846</td>\n",
       "    </tr>\n",
       "    <tr>\n",
       "      <th>889</th>\n",
       "      <td>1.259540</td>\n",
       "      <td>0.475067</td>\n",
       "    </tr>\n",
       "    <tr>\n",
       "      <th>890</th>\n",
       "      <td>-0.834210</td>\n",
       "      <td>1.948201</td>\n",
       "    </tr>\n",
       "  </tbody>\n",
       "</table>\n",
       "<p>714 rows × 2 columns</p>\n",
       "</div>"
      ],
      "text/plain": [
       "            0         1\n",
       "0   -0.594207  0.291893\n",
       "1    1.709759  0.169943\n",
       "2   -0.143988 -0.013231\n",
       "3    0.763679 -0.235846\n",
       "4   -0.594207  0.291893\n",
       "..        ...       ...\n",
       "885 -0.383991  1.643077\n",
       "886 -0.470912 -0.787732\n",
       "887  0.763679 -0.235846\n",
       "889  1.259540  0.475067\n",
       "890 -0.834210  1.948201\n",
       "\n",
       "[714 rows x 2 columns]"
      ]
     },
     "execution_count": 22,
     "metadata": {},
     "output_type": "execute_result"
    }
   ],
   "source": [
    "Xs = mca.transform(df3)\n",
    "Xs"
   ]
  },
  {
   "cell_type": "markdown",
   "id": "9fdbd6d7",
   "metadata": {},
   "source": [
    "Creamos el pipeline del mca con 10 componentes, con regresión logística."
   ]
  },
  {
   "cell_type": "code",
   "execution_count": 24,
   "id": "658a94dd",
   "metadata": {},
   "outputs": [],
   "source": [
    "pipe = Pipeline([('mca', prince.MCA(n_components=10)), ('LR', LogisticRegression())])"
   ]
  },
  {
   "cell_type": "markdown",
   "id": "081748f2",
   "metadata": {},
   "source": [
    "Los valores de la validación cruzada del anterior modelo son:"
   ]
  },
  {
   "cell_type": "code",
   "execution_count": 26,
   "id": "60cbe829",
   "metadata": {},
   "outputs": [
    {
     "data": {
      "text/plain": [
       "array([0.72027972, 0.8041958 , 0.75524476, 0.72727273, 0.79577465])"
      ]
     },
     "execution_count": 26,
     "metadata": {},
     "output_type": "execute_result"
    }
   ],
   "source": [
    "cross_val_score(pipe, df3, data.survived.values)"
   ]
  },
  {
   "cell_type": "markdown",
   "id": "c3f93617",
   "metadata": {},
   "source": [
    "[4] Usando un pipeline similar al anterior encuentre el mejor número de componentes principales usando MCA y validación cruzada (puede usar GridSearchCV). Compruebe el mejor modelo en un test set independiente."
   ]
  },
  {
   "cell_type": "markdown",
   "id": "dc7c300f",
   "metadata": {},
   "source": [
    "Tomamos X como los datos menos la columna `survived`, y y como esta columna"
   ]
  },
  {
   "cell_type": "code",
   "execution_count": 27,
   "id": "2d159836",
   "metadata": {},
   "outputs": [],
   "source": [
    "X = data.drop('survived', axis=1)\n",
    "y = data['survived']"
   ]
  },
  {
   "cell_type": "markdown",
   "id": "ae65e7e5",
   "metadata": {},
   "source": [
    "Dividimos las variables numéricas y las categóricas, y creamos un nuevo dataset, donde las categóricas las convertimos a tipo `category`."
   ]
  },
  {
   "cell_type": "code",
   "execution_count": 29,
   "id": "287a4aef",
   "metadata": {},
   "outputs": [
    {
     "name": "stdout",
     "output_type": "stream",
     "text": [
      "<class 'pandas.core.frame.DataFrame'>\n",
      "Int64Index: 714 entries, 0 to 890\n",
      "Data columns (total 11 columns):\n",
      " #   Column       Non-Null Count  Dtype   \n",
      "---  ------       --------------  -----   \n",
      " 0   age          714 non-null    float64 \n",
      " 1   fare         714 non-null    float64 \n",
      " 2   sex          714 non-null    category\n",
      " 3   embarked     712 non-null    category\n",
      " 4   class        714 non-null    category\n",
      " 5   who          714 non-null    category\n",
      " 6   adult_male   714 non-null    category\n",
      " 7   deck         184 non-null    category\n",
      " 8   embark_town  712 non-null    category\n",
      " 9   alive        714 non-null    category\n",
      " 10  alone        714 non-null    category\n",
      "dtypes: category(9), float64(2)\n",
      "memory usage: 24.4 KB\n"
     ]
    }
   ],
   "source": [
    "variables_numericas = [\"age\", \"fare\"]\n",
    "variables_categoricas = ['sex', 'embarked', 'class', 'who', 'adult_male', 'deck', 'embark_town', 'alive', 'alone']\n",
    "data2 = pd.concat([data[variables_numericas],data[variables_categoricas].astype('category', copy=True)],axis=1)\n",
    "data2.info()"
   ]
  },
  {
   "cell_type": "markdown",
   "id": "61455fdf",
   "metadata": {},
   "source": [
    "Para el pipline, definimos una instancia de mca con 10 componentes, con regresión logística, como antes. Le metemos un diccionario de parámetros que está compuesto por el número de componentes de mca, que va de 1 a 10. Hacemos validación cruzada con 8 folds."
   ]
  },
  {
   "cell_type": "code",
   "execution_count": 36,
   "id": "33a9dff9",
   "metadata": {},
   "outputs": [
    {
     "data": {
      "text/plain": [
       "GridSearchCV(cv=8,\n",
       "             estimator=Pipeline(steps=[('mca', MCA(n_components=10)),\n",
       "                                       ('LR', LogisticRegression())]),\n",
       "             param_grid={'mca__n_components': range(1, 10)})"
      ]
     },
     "execution_count": 36,
     "metadata": {},
     "output_type": "execute_result"
    }
   ],
   "source": [
    "pipe_mca = Pipeline(\n",
    "    steps=[('mca', prince.MCA(n_components = 10)), ('LR', LogisticRegression())]\n",
    ")\n",
    "\n",
    "grid_search = GridSearchCV(pipe_mca, param_grid={'mca__n_components': range(1,10)}, cv=8)\n",
    "\n",
    "grid_search.fit(data2, data.survived)"
   ]
  },
  {
   "cell_type": "code",
   "execution_count": 37,
   "id": "23c942a0",
   "metadata": {},
   "outputs": [
    {
     "data": {
      "text/plain": [
       "['mean_fit_time',\n",
       " 'mean_score_time',\n",
       " 'mean_test_score',\n",
       " 'param_mca__n_components',\n",
       " 'params',\n",
       " 'rank_test_score',\n",
       " 'split0_test_score',\n",
       " 'split1_test_score',\n",
       " 'split2_test_score',\n",
       " 'split3_test_score',\n",
       " 'split4_test_score',\n",
       " 'split5_test_score',\n",
       " 'split6_test_score',\n",
       " 'split7_test_score',\n",
       " 'std_fit_time',\n",
       " 'std_score_time',\n",
       " 'std_test_score']"
      ]
     },
     "execution_count": 37,
     "metadata": {},
     "output_type": "execute_result"
    }
   ],
   "source": [
    "sorted(grid_search.cv_results_.keys())"
   ]
  },
  {
   "cell_type": "markdown",
   "id": "c8306b3d",
   "metadata": {},
   "source": [
    "[5] Use `sklearn.compose.ColumnTransformer`(ver [este ejemplo](https://scikit-learn.org/stable/auto_examples/compose/plot_column_transformer_mixed_types.html#sphx-glr-auto-examples-compose-plot-column-transformer-mixed-types-py)) para realizar PCA sobre las variables numéricas y MCA para las variables categóricas. Incluya este tratamiento en un pipeline junto con un clasificador y compruebe el desempeño del resultado mediante validación cruzada."
   ]
  },
  {
   "cell_type": "markdown",
   "id": "c35a1b44",
   "metadata": {},
   "source": [
    "Definimos las variables numéricas y el pipeline para transformarlo, con PCA con dos componentes "
   ]
  },
  {
   "cell_type": "code",
   "execution_count": 51,
   "id": "78b5723a",
   "metadata": {},
   "outputs": [],
   "source": [
    "variables_numericas = [\"age\", \"fare\"]\n",
    "numeric_transformer = Pipeline(\n",
    "    steps=[(\"imputer\", SimpleImputer(strategy=\"median\")), (\"scaler\", StandardScaler()), ('pca', PCA(n_components=2))]\n",
    ")"
   ]
  },
  {
   "cell_type": "markdown",
   "id": "f69808c4",
   "metadata": {},
   "source": [
    "Definimos las variables categóricas y una instancia de MCA con 8 componentes"
   ]
  },
  {
   "cell_type": "code",
   "execution_count": 52,
   "id": "c0c6f79c",
   "metadata": {},
   "outputs": [],
   "source": [
    "variables_categoricas = ['sex', 'embarked', 'class', 'who', 'adult_male', 'deck', 'embark_town', 'alive', 'alone']\n",
    "categorical_transformer = prince.MCA(n_components = 8)"
   ]
  },
  {
   "cell_type": "markdown",
   "id": "8b610f46",
   "metadata": {},
   "source": [
    "Creamos el transformador con `ColumnTransformer`"
   ]
  },
  {
   "cell_type": "code",
   "execution_count": 53,
   "id": "ef385e7b",
   "metadata": {},
   "outputs": [],
   "source": [
    "preprocessor = ColumnTransformer(\n",
    "    transformers=[\n",
    "        (\"num\", numeric_transformer, variables_numericas),\n",
    "        (\"cat\", categorical_transformer, variables_categoricas),\n",
    "    ]\n",
    ")"
   ]
  },
  {
   "cell_type": "markdown",
   "id": "59031b20",
   "metadata": {},
   "source": [
    "Creamos el PipeLine de predicción con regresión logística"
   ]
  },
  {
   "cell_type": "code",
   "execution_count": 54,
   "id": "3d05e9c4",
   "metadata": {},
   "outputs": [],
   "source": [
    "clasi = Pipeline(\n",
    "    steps=[(\"preprocessor\", preprocessor), (\"classifier\", LogisticRegression())]\n",
    ")"
   ]
  },
  {
   "cell_type": "markdown",
   "id": "259caaa5",
   "metadata": {},
   "source": [
    "Calculamos los valores de la validación cruzada"
   ]
  },
  {
   "cell_type": "code",
   "execution_count": 55,
   "id": "661044db",
   "metadata": {},
   "outputs": [
    {
     "data": {
      "text/plain": [
       "array([0.86013986, 0.90909091, 0.85314685, 0.86713287, 0.92957746])"
      ]
     },
     "execution_count": 55,
     "metadata": {},
     "output_type": "execute_result"
    }
   ],
   "source": [
    "cross_val_score(clasi, data2, data.survived)"
   ]
  },
  {
   "cell_type": "markdown",
   "id": "14366b2f",
   "metadata": {},
   "source": [
    "Y su media"
   ]
  },
  {
   "cell_type": "code",
   "execution_count": 56,
   "id": "a51d575b",
   "metadata": {},
   "outputs": [
    {
     "data": {
      "text/plain": [
       "0.8838175908598445"
      ]
     },
     "execution_count": 56,
     "metadata": {},
     "output_type": "execute_result"
    }
   ],
   "source": [
    "cross_val_score(clasi, data2, data.survived).mean()"
   ]
  },
  {
   "cell_type": "markdown",
   "id": "229ec61c",
   "metadata": {},
   "source": [
    "[6] Ahora realice un procedimiento combinando los procesos de [3] y [2]. Es decir, realice un tratamiento de variables según el tipo, construya un pipeline combinando PCA, MCA y un clasificador, y encuentre el mejor número de componentes principales tanto para PCA cómo para MCA (usando GridSearchCV). Compruebe el resultado en un test set."
   ]
  },
  {
   "cell_type": "markdown",
   "id": "defb8932",
   "metadata": {},
   "source": [
    "Definimos las variables numéricas y definimos el PipeLine de transformación con PCA. Y hacemos lo mismo para las categóricas, pero con MCA."
   ]
  },
  {
   "cell_type": "code",
   "execution_count": 57,
   "id": "ae40f328",
   "metadata": {},
   "outputs": [],
   "source": [
    "variables_numericas = [\"age\", \"fare\"]\n",
    "numeric_transformer = Pipeline(\n",
    "    steps=[(\"imputer\", SimpleImputer(strategy=\"median\")), (\"scaler\", StandardScaler()), ('pca', PCA())]\n",
    ")\n",
    "\n",
    "variables_categoricas = ['sex', 'embarked', 'class', 'who', 'adult_male', 'deck', 'embark_town', 'alive', 'alone']\n",
    "categorical_transformer = prince.MCA()"
   ]
  },
  {
   "cell_type": "markdown",
   "id": "bb4b0076",
   "metadata": {},
   "source": [
    "Creamos el transformador con `ColumnTransformer`."
   ]
  },
  {
   "cell_type": "code",
   "execution_count": 58,
   "id": "535e11ae",
   "metadata": {},
   "outputs": [],
   "source": [
    "preprocessor = ColumnTransformer(\n",
    "    transformers=[\n",
    "        (\"num\", numeric_transformer, variables_numericas),\n",
    "        (\"cat\", categorical_transformer, variables_categoricas),\n",
    "    ]\n",
    ")"
   ]
  },
  {
   "cell_type": "markdown",
   "id": "5e703710",
   "metadata": {},
   "source": [
    "Creamos el PipeLine del clasificador, con regresión logística."
   ]
  },
  {
   "cell_type": "code",
   "execution_count": 59,
   "id": "9d404a6e",
   "metadata": {},
   "outputs": [],
   "source": [
    "clasi2 = Pipeline(\n",
    "    steps=[(\"preprocessor\", preprocessor), (\"classifier\", LogisticRegression())]\n",
    ")"
   ]
  },
  {
   "cell_type": "markdown",
   "id": "c376646e",
   "metadata": {},
   "source": [
    "Definimos un diccionario de parámetros con número de componentes para las componentes de MCA, que va de 1 a 10, y para PCA, que puede ser 1 o 2. Hacemos validación cruzada con `GridSearchCV`, con 10 folds. "
   ]
  },
  {
   "cell_type": "code",
   "execution_count": 69,
   "id": "fb3a2a38",
   "metadata": {},
   "outputs": [],
   "source": [
    "param_grid = {'preprocessor__cat__n_components': range(1,10),\n",
    "               'preprocessor__num__pca__n_components':[1,2]}\n",
    "\n",
    "model = GridSearchCV(clasi2,param_grid=param_grid, cv=10)"
   ]
  },
  {
   "cell_type": "code",
   "execution_count": 68,
   "id": "10bb7f41",
   "metadata": {},
   "outputs": [
    {
     "data": {
      "text/plain": [
       "dict_keys(['memory', 'steps', 'verbose', 'preprocessor', 'classifier', 'preprocessor__n_jobs', 'preprocessor__remainder', 'preprocessor__sparse_threshold', 'preprocessor__transformer_weights', 'preprocessor__transformers', 'preprocessor__verbose', 'preprocessor__num', 'preprocessor__cat', 'preprocessor__num__memory', 'preprocessor__num__steps', 'preprocessor__num__verbose', 'preprocessor__num__imputer', 'preprocessor__num__scaler', 'preprocessor__num__pca', 'preprocessor__num__imputer__add_indicator', 'preprocessor__num__imputer__copy', 'preprocessor__num__imputer__fill_value', 'preprocessor__num__imputer__missing_values', 'preprocessor__num__imputer__strategy', 'preprocessor__num__imputer__verbose', 'preprocessor__num__scaler__copy', 'preprocessor__num__scaler__with_mean', 'preprocessor__num__scaler__with_std', 'preprocessor__num__pca__copy', 'preprocessor__num__pca__iterated_power', 'preprocessor__num__pca__n_components', 'preprocessor__num__pca__random_state', 'preprocessor__num__pca__svd_solver', 'preprocessor__num__pca__tol', 'preprocessor__num__pca__whiten', 'preprocessor__cat__benzecri', 'preprocessor__cat__check_input', 'preprocessor__cat__copy', 'preprocessor__cat__engine', 'preprocessor__cat__n_components', 'preprocessor__cat__n_iter', 'preprocessor__cat__random_state', 'classifier__C', 'classifier__class_weight', 'classifier__dual', 'classifier__fit_intercept', 'classifier__intercept_scaling', 'classifier__l1_ratio', 'classifier__max_iter', 'classifier__multi_class', 'classifier__n_jobs', 'classifier__penalty', 'classifier__random_state', 'classifier__solver', 'classifier__tol', 'classifier__verbose', 'classifier__warm_start'])"
      ]
     },
     "execution_count": 68,
     "metadata": {},
     "output_type": "execute_result"
    }
   ],
   "source": [
    "clasi2.get_params().keys()"
   ]
  },
  {
   "cell_type": "markdown",
   "id": "74e62ae5",
   "metadata": {},
   "source": [
    "Ajustamos el modelo con los datos."
   ]
  },
  {
   "cell_type": "code",
   "execution_count": 70,
   "id": "f58896c1",
   "metadata": {},
   "outputs": [
    {
     "data": {
      "text/plain": [
       "GridSearchCV(cv=10,\n",
       "             estimator=Pipeline(steps=[('preprocessor',\n",
       "                                        ColumnTransformer(transformers=[('num',\n",
       "                                                                         Pipeline(steps=[('imputer',\n",
       "                                                                                          SimpleImputer(strategy='median')),\n",
       "                                                                                         ('scaler',\n",
       "                                                                                          StandardScaler()),\n",
       "                                                                                         ('pca',\n",
       "                                                                                          PCA())]),\n",
       "                                                                         ['age',\n",
       "                                                                          'fare']),\n",
       "                                                                        ('cat',\n",
       "                                                                         MCA(),\n",
       "                                                                         ['sex',\n",
       "                                                                          'embarked',\n",
       "                                                                          'class',\n",
       "                                                                          'who',\n",
       "                                                                          'adult_male',\n",
       "                                                                          'deck',\n",
       "                                                                          'embark_town',\n",
       "                                                                          'alive',\n",
       "                                                                          'alone'])])),\n",
       "                                       ('classifier', LogisticRegression())]),\n",
       "             param_grid={'preprocessor__cat__n_components': range(1, 10),\n",
       "                         'preprocessor__num__pca__n_components': [1, 2]})"
      ]
     },
     "execution_count": 70,
     "metadata": {},
     "output_type": "execute_result"
    }
   ],
   "source": [
    "model.fit(data2, data.survived)"
   ]
  }
 ],
 "metadata": {
  "kernelspec": {
   "display_name": "Python 3 (ipykernel)",
   "language": "python",
   "name": "python3"
  },
  "language_info": {
   "codemirror_mode": {
    "name": "ipython",
    "version": 3
   },
   "file_extension": ".py",
   "mimetype": "text/x-python",
   "name": "python",
   "nbconvert_exporter": "python",
   "pygments_lexer": "ipython3",
   "version": "3.7.9"
  },
  "nbTranslate": {
   "displayLangs": [
    "es",
    "en"
   ],
   "hotkey": "alt-t",
   "langInMainMenu": true,
   "sourceLang": "en",
   "targetLang": "es",
   "useGoogleTranslate": true
  }
 },
 "nbformat": 4,
 "nbformat_minor": 5
}
